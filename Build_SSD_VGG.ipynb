{
  "nbformat": 4,
  "nbformat_minor": 0,
  "metadata": {
    "kernelspec": {
      "display_name": "Python 3",
      "language": "python",
      "name": "python3"
    },
    "language_info": {
      "codemirror_mode": {
        "name": "ipython",
        "version": 3
      },
      "file_extension": ".py",
      "mimetype": "text/x-python",
      "name": "python",
      "nbconvert_exporter": "python",
      "pygments_lexer": "ipython3",
      "version": "3.6.7"
    },
    "colab": {
      "name": "Build SSD_VGG.ipynb",
      "provenance": [],
      "collapsed_sections": [
        "EnVkRmNNEw2R"
      ],
      "include_colab_link": true
    },
    "widgets": {
      "application/vnd.jupyter.widget-state+json": {
        "2ab53edee0da4da78364be7bf1d5703c": {
          "model_module": "@jupyter-widgets/controls",
          "model_name": "HBoxModel",
          "state": {
            "_view_name": "HBoxView",
            "_dom_classes": [],
            "_model_name": "HBoxModel",
            "_view_module": "@jupyter-widgets/controls",
            "_model_module_version": "1.5.0",
            "_view_count": null,
            "_view_module_version": "1.5.0",
            "box_style": "",
            "layout": "IPY_MODEL_24a78367ec664a10b690cce12946862b",
            "_model_module": "@jupyter-widgets/controls",
            "children": [
              "IPY_MODEL_fa92e45258334b21ad0efcf72a3daef8",
              "IPY_MODEL_0ef7f8e625b4491fb14a76fc01977500"
            ]
          }
        },
        "24a78367ec664a10b690cce12946862b": {
          "model_module": "@jupyter-widgets/base",
          "model_name": "LayoutModel",
          "state": {
            "_view_name": "LayoutView",
            "grid_template_rows": null,
            "right": null,
            "justify_content": null,
            "_view_module": "@jupyter-widgets/base",
            "overflow": null,
            "_model_module_version": "1.2.0",
            "_view_count": null,
            "flex_flow": null,
            "width": null,
            "min_width": null,
            "border": null,
            "align_items": null,
            "bottom": null,
            "_model_module": "@jupyter-widgets/base",
            "top": null,
            "grid_column": null,
            "overflow_y": null,
            "overflow_x": null,
            "grid_auto_flow": null,
            "grid_area": null,
            "grid_template_columns": null,
            "flex": null,
            "_model_name": "LayoutModel",
            "justify_items": null,
            "grid_row": null,
            "max_height": null,
            "align_content": null,
            "visibility": null,
            "align_self": null,
            "height": null,
            "min_height": null,
            "padding": null,
            "grid_auto_rows": null,
            "grid_gap": null,
            "max_width": null,
            "order": null,
            "_view_module_version": "1.2.0",
            "grid_template_areas": null,
            "object_position": null,
            "object_fit": null,
            "grid_auto_columns": null,
            "margin": null,
            "display": null,
            "left": null
          }
        },
        "fa92e45258334b21ad0efcf72a3daef8": {
          "model_module": "@jupyter-widgets/controls",
          "model_name": "FloatProgressModel",
          "state": {
            "_view_name": "ProgressView",
            "style": "IPY_MODEL_29b28de84dec43d5b2f2601b1ba8a27b",
            "_dom_classes": [],
            "description": "100%",
            "_model_name": "FloatProgressModel",
            "bar_style": "success",
            "max": 10,
            "_view_module": "@jupyter-widgets/controls",
            "_model_module_version": "1.5.0",
            "value": 10,
            "_view_count": null,
            "_view_module_version": "1.5.0",
            "orientation": "horizontal",
            "min": 0,
            "description_tooltip": null,
            "_model_module": "@jupyter-widgets/controls",
            "layout": "IPY_MODEL_380f574bb94e410eb0453f8a1fc7f219"
          }
        },
        "0ef7f8e625b4491fb14a76fc01977500": {
          "model_module": "@jupyter-widgets/controls",
          "model_name": "HTMLModel",
          "state": {
            "_view_name": "HTMLView",
            "style": "IPY_MODEL_7b018bcf04e24decb0507258c6d30eb6",
            "_dom_classes": [],
            "description": "",
            "_model_name": "HTMLModel",
            "placeholder": "​",
            "_view_module": "@jupyter-widgets/controls",
            "_model_module_version": "1.5.0",
            "value": " 10/10 [1:00:02&lt;00:00, 360.26s/it]",
            "_view_count": null,
            "_view_module_version": "1.5.0",
            "description_tooltip": null,
            "_model_module": "@jupyter-widgets/controls",
            "layout": "IPY_MODEL_fa10f6fee5174fd392db1058bcb4bf98"
          }
        },
        "29b28de84dec43d5b2f2601b1ba8a27b": {
          "model_module": "@jupyter-widgets/controls",
          "model_name": "ProgressStyleModel",
          "state": {
            "_view_name": "StyleView",
            "_model_name": "ProgressStyleModel",
            "description_width": "initial",
            "_view_module": "@jupyter-widgets/base",
            "_model_module_version": "1.5.0",
            "_view_count": null,
            "_view_module_version": "1.2.0",
            "bar_color": null,
            "_model_module": "@jupyter-widgets/controls"
          }
        },
        "380f574bb94e410eb0453f8a1fc7f219": {
          "model_module": "@jupyter-widgets/base",
          "model_name": "LayoutModel",
          "state": {
            "_view_name": "LayoutView",
            "grid_template_rows": null,
            "right": null,
            "justify_content": null,
            "_view_module": "@jupyter-widgets/base",
            "overflow": null,
            "_model_module_version": "1.2.0",
            "_view_count": null,
            "flex_flow": null,
            "width": null,
            "min_width": null,
            "border": null,
            "align_items": null,
            "bottom": null,
            "_model_module": "@jupyter-widgets/base",
            "top": null,
            "grid_column": null,
            "overflow_y": null,
            "overflow_x": null,
            "grid_auto_flow": null,
            "grid_area": null,
            "grid_template_columns": null,
            "flex": null,
            "_model_name": "LayoutModel",
            "justify_items": null,
            "grid_row": null,
            "max_height": null,
            "align_content": null,
            "visibility": null,
            "align_self": null,
            "height": null,
            "min_height": null,
            "padding": null,
            "grid_auto_rows": null,
            "grid_gap": null,
            "max_width": null,
            "order": null,
            "_view_module_version": "1.2.0",
            "grid_template_areas": null,
            "object_position": null,
            "object_fit": null,
            "grid_auto_columns": null,
            "margin": null,
            "display": null,
            "left": null
          }
        },
        "7b018bcf04e24decb0507258c6d30eb6": {
          "model_module": "@jupyter-widgets/controls",
          "model_name": "DescriptionStyleModel",
          "state": {
            "_view_name": "StyleView",
            "_model_name": "DescriptionStyleModel",
            "description_width": "",
            "_view_module": "@jupyter-widgets/base",
            "_model_module_version": "1.5.0",
            "_view_count": null,
            "_view_module_version": "1.2.0",
            "_model_module": "@jupyter-widgets/controls"
          }
        },
        "fa10f6fee5174fd392db1058bcb4bf98": {
          "model_module": "@jupyter-widgets/base",
          "model_name": "LayoutModel",
          "state": {
            "_view_name": "LayoutView",
            "grid_template_rows": null,
            "right": null,
            "justify_content": null,
            "_view_module": "@jupyter-widgets/base",
            "overflow": null,
            "_model_module_version": "1.2.0",
            "_view_count": null,
            "flex_flow": null,
            "width": null,
            "min_width": null,
            "border": null,
            "align_items": null,
            "bottom": null,
            "_model_module": "@jupyter-widgets/base",
            "top": null,
            "grid_column": null,
            "overflow_y": null,
            "overflow_x": null,
            "grid_auto_flow": null,
            "grid_area": null,
            "grid_template_columns": null,
            "flex": null,
            "_model_name": "LayoutModel",
            "justify_items": null,
            "grid_row": null,
            "max_height": null,
            "align_content": null,
            "visibility": null,
            "align_self": null,
            "height": null,
            "min_height": null,
            "padding": null,
            "grid_auto_rows": null,
            "grid_gap": null,
            "max_width": null,
            "order": null,
            "_view_module_version": "1.2.0",
            "grid_template_areas": null,
            "object_position": null,
            "object_fit": null,
            "grid_auto_columns": null,
            "margin": null,
            "display": null,
            "left": null
          }
        }
      }
    }
  },
  "cells": [
    {
      "cell_type": "markdown",
      "metadata": {
        "id": "view-in-github",
        "colab_type": "text"
      },
      "source": [
        "<a href=\"https://colab.research.google.com/github/crea0414/1st_CVDL/blob/master/Build_SSD_VGG.ipynb\" target=\"_parent\"><img src=\"https://colab.research.google.com/assets/colab-badge.svg\" alt=\"Open In Colab\"/></a>"
      ]
    },
    {
      "cell_type": "code",
      "metadata": {
        "id": "_fAYqe1xE_Bd",
        "outputId": "cdce0e41-9c0e-4485-819b-1bc794d92665",
        "colab": {
          "base_uri": "https://localhost:8080/",
          "height": 34
        }
      },
      "source": [
        "from google.colab import drive\n",
        "drive.mount('/gdrive')"
      ],
      "execution_count": 1,
      "outputs": [
        {
          "output_type": "stream",
          "text": [
            "Mounted at /gdrive\n"
          ],
          "name": "stdout"
        }
      ]
    },
    {
      "cell_type": "code",
      "metadata": {
        "id": "oDBLzSdIFFId",
        "outputId": "c98ceb3b-90ee-42c8-c0bd-cbfb8d025583",
        "colab": {
          "base_uri": "https://localhost:8080/",
          "height": 34
        }
      },
      "source": [
        "%cd /gdrive/My\\ Drive/First_CV_DL191125/Object\\ Detection\\ 程式導讀"
      ],
      "execution_count": 2,
      "outputs": [
        {
          "output_type": "stream",
          "text": [
            "/gdrive/My Drive/First_CV_DL191125/Object Detection 程式導讀\n"
          ],
          "name": "stdout"
        }
      ]
    },
    {
      "cell_type": "code",
      "metadata": {
        "id": "boBDjY3KEw1d"
      },
      "source": [
        "from ssd import build_ssd\n",
        "from layers.box_utils import *\n",
        "import os\n",
        "import sys\n",
        "import torch\n",
        "from torch.autograd import Variable\n",
        "import torch.nn as nn\n",
        "import torch.optim as optim\n",
        "import torch.backends.cudnn as cudnn\n",
        "import torch.nn.init as init\n",
        "import torch.utils.data as data\n",
        "import numpy as np\n",
        "import argparse\n",
        "import torchvision\n",
        "import pickle\n",
        "from layers import box_utils\n",
        "from layers import Detect\n",
        "from layers import functions\n",
        "from layers import modules\n",
        "import torch.nn.functional as F\n",
        "from math import sqrt as sqrt\n",
        "from itertools import product as product\n",
        "\n",
        "from torch.autograd import Function\n",
        "from layers.box_utils import decode, nms"
      ],
      "execution_count": 3,
      "outputs": []
    },
    {
      "cell_type": "code",
      "metadata": {
        "id": "JOpq7_RKEw1j",
        "outputId": "9d39392f-0cd6-45cd-851b-c75a44705d02",
        "colab": {
          "base_uri": "https://localhost:8080/",
          "height": 51
        }
      },
      "source": [
        "## 詳細模型結構可以參考ssd.py\n",
        "ssd_net=build_ssd('train', size=300, num_classes=21)\n",
        "ssd_net.load_weights('./demo/ssd300_mAP_77.43_v2.pth')"
      ],
      "execution_count": 4,
      "outputs": [
        {
          "output_type": "stream",
          "text": [
            "Loading weights into state dict...\n",
            "Finished!\n"
          ],
          "name": "stdout"
        }
      ]
    },
    {
      "cell_type": "markdown",
      "metadata": {
        "id": "EQ3bjOUBEw1o"
      },
      "source": [
        "## 默認Config檔案在data/config.py內"
      ]
    },
    {
      "cell_type": "code",
      "metadata": {
        "id": "QJeBJOnCEw1o",
        "outputId": "e663c05d-6b26-4a8e-e911-11f1c0e64f28",
        "colab": {
          "base_uri": "https://localhost:8080/",
          "height": 221
        }
      },
      "source": [
        "ssd_net.cfg"
      ],
      "execution_count": 5,
      "outputs": [
        {
          "output_type": "execute_result",
          "data": {
            "text/plain": [
              "{'aspect_ratios': [[2], [2, 3], [2, 3], [2, 3], [2], [2]],\n",
              " 'clip': True,\n",
              " 'feature_maps': [38, 19, 10, 5, 3, 1],\n",
              " 'lr_steps': (80000, 100000, 120000),\n",
              " 'max_iter': 120000,\n",
              " 'max_sizes': [60, 111, 162, 213, 264, 315],\n",
              " 'min_dim': 300,\n",
              " 'min_sizes': [30, 60, 111, 162, 213, 264],\n",
              " 'name': 'VOC',\n",
              " 'num_classes': 21,\n",
              " 'steps': [8, 16, 32, 64, 100, 300],\n",
              " 'variance': [0.1, 0.2]}"
            ]
          },
          "metadata": {
            "tags": []
          },
          "execution_count": 5
        }
      ]
    },
    {
      "cell_type": "code",
      "metadata": {
        "id": "erYmujU3Ew1s"
      },
      "source": [
        "cfg = {\n",
        "    'num_classes': 21,\n",
        "    'lr_steps': (80000, 100000, 120000),\n",
        "    'max_iter': 120000,\n",
        "    'feature_maps': [38, 19, 10, 5, 3, 1],\n",
        "    'min_dim': 300,\n",
        "    'steps': [8, 16, 32, 64, 100, 300],\n",
        "    'min_sizes': [30, 60, 111, 162, 213, 264],\n",
        "    'max_sizes': [60, 111, 162, 213, 264, 315],\n",
        "    'aspect_ratios': [[2], [2, 3], [2, 3], [2, 3], [2], [2]],\n",
        "    'variance': [0.1, 0.2],\n",
        "    'clip': True,\n",
        "    'name': 'VOC',\n",
        "}"
      ],
      "execution_count": 6,
      "outputs": []
    },
    {
      "cell_type": "markdown",
      "metadata": {
        "id": "CN6ur4__Ew1u"
      },
      "source": [
        "### 'aspect_ratios' : 使用六張Feature Map，每一張上方有預設的anchor boxes，Boxes aspect ratio可以自己設定\n",
        "### 'feature_maps' : 使用feature map大小為[38x38, 19x19, 10x10, 5x5, 3x3, 1x1]\n",
        "### 'min_sizes'、'max_sizes'可藉由下方算式算出，由作者自行設計\n",
        "### 'steps' : Feature map回放回原本300*300的比例，如38要回放為300大概就是8倍\n",
        "### 'variance' : Training 的一個trick，加速收斂，詳見：https://github.com/rykov8/ssd_keras/issues/53"
      ]
    },
    {
      "cell_type": "markdown",
      "metadata": {
        "id": "_mVUG4SDEw1v"
      },
      "source": [
        "---"
      ]
    },
    {
      "cell_type": "markdown",
      "metadata": {
        "id": "QyD_cJhHEw1w"
      },
      "source": [
        "## 'min_sizes'、'max_sizes' 計算\n",
        "\n",
        "- 計算在6個不同feature maps的anchor boxes 最小最大是多少\n",
        "- 以縮放率最小10%到最大90%(20%-90%)Range對6個feature maps間的間隔數(6-1)進行線性區分\n",
        "- 定義最大張feature maps的最小最大anchor boxes為(10%, 20%)起始點, 次大張的為(20%, 37%), (37%, 54%), (54%, 71%), (71%, 88%), (88%, 105%)"
      ]
    },
    {
      "cell_type": "code",
      "metadata": {
        "id": "DOmsYCApEw1w",
        "outputId": "47816b1f-c798-46e0-a659-02b2685c6fca",
        "colab": {
          "base_uri": "https://localhost:8080/",
          "height": 136
        }
      },
      "source": [
        "import math\n",
        "## source:https://blog.csdn.net/gbyy42299/article/details/81235891\n",
        "min_dim = 300   ## 维度\n",
        "# conv4_3 ==> 38 x 38\n",
        "# fc7 ==> 19 x 19\n",
        "# conv6_2 ==> 10 x 10\n",
        "# conv7_2 ==> 5 x 5\n",
        "# conv8_2 ==> 3 x 3\n",
        "# conv9_2 ==> 1 x 1\n",
        "mbox_source_layers = ['conv4_3', 'fc7', 'conv6_2', 'conv7_2', 'conv8_2', 'conv9_2'] ## prior_box來源層，可以更改。很多改進都是基於此處的調整。\n",
        "# in percent %\n",
        "min_ratio = 20 ## 這裡即是論文中所說的Smin的= 0.2，Smax的= 0.9的初始值，經過下面的運算即可得到min_sizes，max_sizes。\n",
        "max_ratio = 90\n",
        "step = int(math.floor((max_ratio - min_ratio) / (len(mbox_source_layers) - 2)))## 取一個間距步長，即在下面用於循環給比取值時起一個間距作用。可以用一個具體的數值代替，這裡等於17。\n",
        "min_sizes = []  ## 經過以下運算得到min_sizes和max_sizes。\n",
        "max_sizes = []\n",
        "for ratio in range(min_ratio, max_ratio + 1, step):\n",
        "    ## 從min_ratio至max_ratio + 1每隔步驟= 17取一個值賦值給比。注意範圍函數的作用。\n",
        "    ## min_sizes.append（）函數即把括號內部每次得到的值依次給了min_sizes。\n",
        "    print(f'min_step: {ratio}, max_step: {ratio+step}')\n",
        "    min_sizes.append(min_dim * ratio / 100.)\n",
        "    max_sizes.append(min_dim * (ratio + step) / 100.)\n",
        "min_sizes = [min_dim * 10 / 100.] + min_sizes\n",
        "max_sizes = [min_dim * 20 / 100.] + max_sizes\n",
        "\n",
        "## steps: 這一步要仔細理解，即計算卷積層產生的prior_box距離原圖的步長，先驗框中心點的坐標會乘以step，\n",
        "## 相當於從特徵映射位置映射回原圖位置，比如conv4_3輸出特徵圖大小為38 *38，而輸入的圖片為300* 300，\n",
        "## 所以38 *8約等於300，所以映射步長為8.這是針對300* 300的訓練圖片。\n",
        "steps = [8, 16, 32, 64, 100, 300]  \n",
        "aspect_ratios = [[2], [2, 3], [2, 3], [2, 3], [2], [2]]\n",
        " \n",
        "print('min_sizes: ',min_sizes)\n",
        "print('max_sizes: ',max_sizes)\n"
      ],
      "execution_count": 7,
      "outputs": [
        {
          "output_type": "stream",
          "text": [
            "min_step: 20, max_step: 37\n",
            "min_step: 37, max_step: 54\n",
            "min_step: 54, max_step: 71\n",
            "min_step: 71, max_step: 88\n",
            "min_step: 88, max_step: 105\n",
            "min_sizes:  [30.0, 60.0, 111.0, 162.0, 213.0, 264.0]\n",
            "max_sizes:  [60.0, 111.0, 162.0, 213.0, 264.0, 315.0]\n"
          ],
          "name": "stdout"
        }
      ]
    },
    {
      "cell_type": "markdown",
      "metadata": {
        "id": "8ZJi0xSPEw11"
      },
      "source": [
        "---"
      ]
    },
    {
      "cell_type": "markdown",
      "metadata": {
        "id": "WgOJlZy42uP2"
      },
      "source": [
        "## Steps 算是原圖與各個feature maps長度單位比例(如下)"
      ]
    },
    {
      "cell_type": "code",
      "metadata": {
        "id": "wi532VgowCN7",
        "outputId": "ea4bd980-9ab7-4116-bc9d-ad21091309a6",
        "colab": {
          "base_uri": "https://localhost:8080/",
          "height": 119
        }
      },
      "source": [
        "#'steps': [8, 16, 32, 64, 100, 300],\n",
        "feature_maps = [38, 19, 10, 5, 3, 1]\n",
        "origin_size = 300\n",
        "for f in feature_maps:\n",
        "    print(np.round(origin_size/f, 0))"
      ],
      "execution_count": 8,
      "outputs": [
        {
          "output_type": "stream",
          "text": [
            "8.0\n",
            "16.0\n",
            "30.0\n",
            "60.0\n",
            "100.0\n",
            "300.0\n"
          ],
          "name": "stdout"
        }
      ]
    },
    {
      "cell_type": "markdown",
      "metadata": {
        "id": "Jb-bIAixEw11"
      },
      "source": [
        "## Default anchor boxes設計原理，看懂收穫很多\n",
        "##### 可以理解 SSD原文中 8732個anchors是怎麼來的\n",
        "##### 38×38×4+19×19×6+10×10×6+5×5×6+3×3×4+1×1×4=8732\n",
        "\n",
        "![image.png](data:image/png;base64,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)"
      ]
    },
    {
      "cell_type": "code",
      "metadata": {
        "id": "Zt9kfjgTEw12"
      },
      "source": [
        "class PriorBox(object):\n",
        "    \"\"\"Compute priorbox coordinates in center-offset form for each source\n",
        "    feature map.\n",
        "    \"\"\"\n",
        "    def __init__(self, cfg):\n",
        "        super(PriorBox, self).__init__()\n",
        "        self.image_size = cfg['min_dim']\n",
        "        # number of priors for feature map location (either 4 or 6)\n",
        "        self.num_priors = len(cfg['aspect_ratios'])\n",
        "        self.variance = cfg['variance'] or [0.1]\n",
        "        self.feature_maps = cfg['feature_maps']\n",
        "        self.min_sizes = cfg['min_sizes']\n",
        "        self.max_sizes = cfg['max_sizes']\n",
        "        self.steps = cfg['steps']\n",
        "        self.aspect_ratios = cfg['aspect_ratios']\n",
        "        self.clip = cfg['clip']\n",
        "        self.version = cfg['name']\n",
        "        for v in self.variance:\n",
        "            if v <= 0:\n",
        "                raise ValueError('Variances must be greater than 0')\n",
        "\n",
        "    def forward(self):\n",
        "        mean = []\n",
        "        '''依照Feature map大小找出所有的pixel 中心'''\n",
        "        '''下方這兩個loop會找出W個x軸pixel對上W個y軸pixel，假如現在是在38x38的feature map上，就會有38x38個值'''\n",
        "        '''ex. [0,1],[0,2]..[0,37] [1,1],[1,2]..[1,37]..........[37,37]'''\n",
        "        for k, f in enumerate(self.feature_maps):\n",
        "            for i, j in product(range(f), repeat=2):\n",
        "                f_k = self.image_size / self.steps[k] ## 如self.steps==8，就是先將原圖size normalize(/300)後再乘上8\n",
        "                #[crea]:f_k 等於是換算成feature map的浮點數版本\n",
        "                # unit center x,y\n",
        "                '''中心點'''\n",
        "                #[crea]: i, j 等於是以feature maps坐標系給出各個cell的座標, 平移到中心點後，除以f_k(精準版的)feature map size Nomarlized 成單位座標(0-1)\n",
        "                cx = (j + 0.5) / f_k\n",
        "                cy = (i + 0.5) / f_k\n",
        "\n",
        "                # aspect_ratio: 1\n",
        "                # rel size: min_size\n",
        "                '''/self.image_size 就是在做normalization '''\n",
        "                #[crea]: 把每個feature map的小anchor box長度進行歸一(下方有大的anchor box長度算法跟小的不一樣當aspect_ration為1)\n",
        "                s_k = self.min_sizes[k]/self.image_size\n",
        "                '''小的正方形box'''\n",
        "                mean += [cx, cy, s_k, s_k]\n",
        "\n",
        "                # aspect_ratio: 1\n",
        "                # rel size: sqrt(s_k * s_(k+1))\n",
        "                #[crea]: s_(k+1) 大anchor box也是進行歸一後，與小anchor box相乘開根號\n",
        "                '''大的正方形box'''\n",
        "                s_k_prime = sqrt(s_k * (self.max_sizes[k]/self.image_size))\n",
        "                mean += [cx, cy, s_k_prime, s_k_prime]\n",
        "\n",
        "                # rest of aspect ratios\n",
        "                for ar in self.aspect_ratios[k]:\n",
        "                    '''aspect ratio 2,3'''\n",
        "                    mean += [cx, cy, s_k*sqrt(ar), s_k/sqrt(ar)]\n",
        "                    '''aspect ratio 1/2,1/3'''\n",
        "                    mean += [cx, cy, s_k/sqrt(ar), s_k*sqrt(ar)]\n",
        "        # back to torch land\n",
        "        output = torch.Tensor(mean).view(-1, 4)\n",
        "        if self.clip:\n",
        "            output.clamp_(max=1, min=0)\n",
        "        return output"
      ],
      "execution_count": 9,
      "outputs": []
    },
    {
      "cell_type": "code",
      "metadata": {
        "id": "yWVeKv2PEw16",
        "outputId": "037a53eb-e4be-4166-e971-1a6f7f374e27",
        "colab": {
          "base_uri": "https://localhost:8080/",
          "height": 34
        }
      },
      "source": [
        "PriorBox_Demo=PriorBox(cfg)\n",
        "print(PriorBox_Demo.forward().shape)"
      ],
      "execution_count": 10,
      "outputs": [
        {
          "output_type": "stream",
          "text": [
            "torch.Size([8732, 4])\n"
          ],
          "name": "stdout"
        }
      ]
    },
    {
      "cell_type": "markdown",
      "metadata": {
        "id": "oarjWR0-Ew1_"
      },
      "source": [
        "---"
      ]
    },
    {
      "cell_type": "markdown",
      "metadata": {
        "id": "HAxAgXzfEw2A"
      },
      "source": [
        "## Loss 如何設計"
      ]
    },
    {
      "cell_type": "code",
      "metadata": {
        "id": "odn7um-IZeO0",
        "outputId": "6722710a-66c5-4d2b-e239-f13125da15c7",
        "colab": {
          "base_uri": "https://localhost:8080/",
          "height": 34
        }
      },
      "source": [
        "#!ls layers/modules/"
      ],
      "execution_count": 29,
      "outputs": [
        {
          "output_type": "stream",
          "text": [
            "__init__.py  l2norm.py\tmultibox_loss.py  __pycache__\n"
          ],
          "name": "stdout"
        }
      ]
    },
    {
      "cell_type": "code",
      "metadata": {
        "id": "EPj7exIDZjfc"
      },
      "source": [
        "#%pycat layers/box_utils.py"
      ],
      "execution_count": 12,
      "outputs": []
    },
    {
      "cell_type": "code",
      "metadata": {
        "id": "xR06TagSANUE"
      },
      "source": [
        "#%pycat ssd.py"
      ],
      "execution_count": 13,
      "outputs": []
    },
    {
      "cell_type": "code",
      "metadata": {
        "id": "sqyYa4euBJxy"
      },
      "source": [
        "#%pycat layers/modules/multibox_loss.py"
      ],
      "execution_count": 30,
      "outputs": []
    },
    {
      "cell_type": "markdown",
      "metadata": {
        "id": "I1kfAOUAq1CR"
      },
      "source": [
        "### CrossEntropy 特性與數值穩定算法"
      ]
    },
    {
      "cell_type": "code",
      "metadata": {
        "id": "U5c0KoBmLkKA",
        "outputId": "17e14a31-72ad-4de0-f142-3496a1a0e453",
        "colab": {
          "base_uri": "https://localhost:8080/",
          "height": 85
        }
      },
      "source": [
        "'''Logits數值加減後，再經過softmax計算都是相同的'''\n",
        "logits = torch.tensor([3., 1, -3])\n",
        "logits_1 = logits - logits.max()\n",
        "print(f'logits:{logits}\\nlogits_1:{logits_1}')\n",
        "print(f'softmax:{torch.nn.functional.softmax(logits, dim=-1)}')\n",
        "print(f'softmax_1:{torch.nn.functional.softmax(logits_1, dim=-1)}')"
      ],
      "execution_count": 11,
      "outputs": [
        {
          "output_type": "stream",
          "text": [
            "logits:tensor([ 3.,  1., -3.])\n",
            "logits_1:tensor([ 0., -2., -6.])\n",
            "softmax:tensor([0.8789, 0.1189, 0.0022])\n",
            "softmax_1:tensor([0.8789, 0.1189, 0.0022])\n"
          ],
          "name": "stdout"
        }
      ]
    },
    {
      "cell_type": "code",
      "metadata": {
        "id": "7oenlv3wReTP",
        "outputId": "e377dd9e-e925-4bb7-9b79-eae0ac98100b",
        "colab": {
          "base_uri": "https://localhost:8080/",
          "height": 34
        }
      },
      "source": [
        "batch_nums = 3\n",
        "classes = 5\n",
        "w_h = 2\n",
        "initial_num_range = 1000\n",
        "\n",
        "logits = torch.tensor(np.random.randint(0, initial_num_range, (batch_nums, classes, w_h, w_h)), dtype=torch.float32)\n",
        "labels = torch.tensor(np.random.randint(0, classes, (batch_nums, 1, w_h, w_h)), dtype=torch.int64)\n",
        "probs = torch.nn.functional.softmax(logits, dim=1)\n",
        "probs.shape, labels.shape"
      ],
      "execution_count": 12,
      "outputs": [
        {
          "output_type": "execute_result",
          "data": {
            "text/plain": [
              "(torch.Size([3, 5, 2, 2]), torch.Size([3, 1, 2, 2]))"
            ]
          },
          "metadata": {
            "tags": []
          },
          "execution_count": 12
        }
      ]
    },
    {
      "cell_type": "code",
      "metadata": {
        "id": "53GkEOWvTm1T",
        "outputId": "edd769db-7c1b-4b0c-be53-9ca9565ff18d",
        "colab": {
          "base_uri": "https://localhost:8080/",
          "height": 34
        }
      },
      "source": [
        "batch_logits = logits.view(logits.size(0)*w_h*w_h, -1) \n",
        "batch_labels = labels.view(labels.size(0)*w_h*w_h)\n",
        "batch_logits.size(), batch_labels.size()"
      ],
      "execution_count": 13,
      "outputs": [
        {
          "output_type": "execute_result",
          "data": {
            "text/plain": [
              "(torch.Size([12, 5]), torch.Size([12]))"
            ]
          },
          "metadata": {
            "tags": []
          },
          "execution_count": 13
        }
      ]
    },
    {
      "cell_type": "code",
      "metadata": {
        "id": "e8v0ifpibXu6",
        "outputId": "9e566a43-8170-49bd-fa2e-a2d6d4a43f33",
        "colab": {
          "base_uri": "https://localhost:8080/",
          "height": 119
        }
      },
      "source": [
        "batch_logits[:6], batch_labels[:6]"
      ],
      "execution_count": 14,
      "outputs": [
        {
          "output_type": "execute_result",
          "data": {
            "text/plain": [
              "(tensor([[666., 466., 994., 945., 647.],\n",
              "         [728., 665., 756., 847., 274.],\n",
              "         [972.,  17.,  56., 668., 204.],\n",
              "         [189., 593., 184., 388., 233.],\n",
              "         [856., 921., 766., 457., 772.],\n",
              "         [678.,   8., 935., 948., 459.]]), tensor([4, 4, 4, 3, 0, 2]))"
            ]
          },
          "metadata": {
            "tags": []
          },
          "execution_count": 14
        }
      ]
    },
    {
      "cell_type": "code",
      "metadata": {
        "id": "faqj0pRpfjla",
        "outputId": "bf181901-b1d8-4ece-f612-3e7620094c89",
        "colab": {
          "base_uri": "https://localhost:8080/",
          "height": 34
        }
      },
      "source": [
        "batch_max, _ = torch.max(batch_logits, dim=1, keepdim=True)\n",
        "batch_max.size()"
      ],
      "execution_count": 15,
      "outputs": [
        {
          "output_type": "execute_result",
          "data": {
            "text/plain": [
              "torch.Size([12, 1])"
            ]
          },
          "metadata": {
            "tags": []
          },
          "execution_count": 15
        }
      ]
    },
    {
      "cell_type": "code",
      "metadata": {
        "id": "wSdwpJWOey6t",
        "outputId": "181b8643-d158-45da-959e-f852cd2775a3",
        "colab": {
          "base_uri": "https://localhost:8080/",
          "height": 629
        }
      },
      "source": [
        "'''Logits 做exp計算時，容易造成overflow or underflow(過大inf/過小0)，最好將logits減掉其元素內最大值使其操作exp時數值穩定'''\n",
        "#batch_max = 0\n",
        "batch_exp = torch.exp(batch_logits-batch_max)\n",
        "batch_log_sum = torch.log(torch.sum(batch_exp, dim=1, keepdim=True)) + batch_max\n",
        "batch_class = batch_logits.gather(1, batch_labels.view(batch_labels.size(0), -1))\n",
        "print(f'batch_exp:{batch_exp}')\n",
        "print(f'batch_log_sum:{batch_log_sum}')\n",
        "print(f'batch_class:{batch_class}')"
      ],
      "execution_count": 16,
      "outputs": [
        {
          "output_type": "stream",
          "text": [
            "batch_exp:tensor([[0.0000e+00, 0.0000e+00, 1.0000e+00, 5.2429e-22, 0.0000e+00],\n",
            "        [0.0000e+00, 0.0000e+00, 3.0144e-40, 1.0000e+00, 0.0000e+00],\n",
            "        [1.0000e+00, 0.0000e+00, 0.0000e+00, 0.0000e+00, 0.0000e+00],\n",
            "        [0.0000e+00, 1.0000e+00, 0.0000e+00, 0.0000e+00, 0.0000e+00],\n",
            "        [5.9001e-29, 1.0000e+00, 0.0000e+00, 0.0000e+00, 0.0000e+00],\n",
            "        [0.0000e+00, 0.0000e+00, 2.2603e-06, 1.0000e+00, 0.0000e+00],\n",
            "        [0.0000e+00, 0.0000e+00, 1.2664e-14, 0.0000e+00, 1.0000e+00],\n",
            "        [1.0000e+00, 1.7588e-25, 0.0000e+00, 3.4425e-14, 0.0000e+00],\n",
            "        [5.7495e-19, 1.4013e-44, 0.0000e+00, 1.0000e+00, 0.0000e+00],\n",
            "        [0.0000e+00, 0.0000e+00, 1.0000e+00, 0.0000e+00, 0.0000e+00],\n",
            "        [1.0000e+00, 0.0000e+00, 0.0000e+00, 0.0000e+00, 0.0000e+00],\n",
            "        [0.0000e+00, 1.0000e+00, 0.0000e+00, 0.0000e+00, 0.0000e+00]])\n",
            "batch_log_sum:tensor([[994.],\n",
            "        [847.],\n",
            "        [972.],\n",
            "        [593.],\n",
            "        [921.],\n",
            "        [948.],\n",
            "        [891.],\n",
            "        [651.],\n",
            "        [957.],\n",
            "        [939.],\n",
            "        [805.],\n",
            "        [922.]])\n",
            "batch_class:tensor([[647.],\n",
            "        [274.],\n",
            "        [204.],\n",
            "        [388.],\n",
            "        [856.],\n",
            "        [935.],\n",
            "        [859.],\n",
            "        [651.],\n",
            "        [835.],\n",
            "        [712.],\n",
            "        [ 65.],\n",
            "        [581.]])\n"
          ],
          "name": "stdout"
        }
      ]
    },
    {
      "cell_type": "code",
      "metadata": {
        "id": "zXWvIVrrmrX2",
        "outputId": "aa431b55-7b7a-4a8d-f840-4496fe2161f0",
        "colab": {
          "base_uri": "https://localhost:8080/",
          "height": 102
        }
      },
      "source": [
        "batch_loss = batch_log_sum - batch_class\n",
        "print(f'batch_loss:{batch_loss.view(-1)}')\n",
        "print(f'cross_entropy:{torch.nn.functional.cross_entropy(batch_logits, batch_labels, reduction=\"none\")}')\n",
        "print(f'mean_batch_loss:{torch.mean(batch_loss)}')\n",
        "print(f'mean_cross_entropy:{torch.nn.functional.cross_entropy(batch_logits, batch_labels, reduction=\"mean\")}')"
      ],
      "execution_count": 17,
      "outputs": [
        {
          "output_type": "stream",
          "text": [
            "batch_loss:tensor([347., 573., 768., 205.,  65.,  13.,  32.,   0., 122., 227., 740., 341.])\n",
            "cross_entropy:tensor([347.0000, 573.0000, 768.0000, 205.0000,  65.0000,  13.0000,  32.0000,\n",
            "         -0.0000, 122.0000, 227.0000, 740.0000, 341.0000])\n",
            "mean_batch_loss:286.0833435058594\n",
            "mean_cross_entropy:286.0833435058594\n"
          ],
          "name": "stdout"
        }
      ]
    },
    {
      "cell_type": "code",
      "metadata": {
        "id": "f1PBSEun1G8O",
        "outputId": "ada4d5e8-d83d-4c77-cccc-6386a1666819",
        "colab": {
          "base_uri": "https://localhost:8080/",
          "height": 34
        }
      },
      "source": [
        "batch_loss.size()"
      ],
      "execution_count": 18,
      "outputs": [
        {
          "output_type": "execute_result",
          "data": {
            "text/plain": [
              "torch.Size([12, 1])"
            ]
          },
          "metadata": {
            "tags": []
          },
          "execution_count": 18
        }
      ]
    },
    {
      "cell_type": "code",
      "metadata": {
        "id": "UmDl7Eg5vE2L",
        "outputId": "6c66dc8c-3496-4fdd-85d9-ef12beb1f600",
        "colab": {
          "base_uri": "https://localhost:8080/",
          "height": 408
        }
      },
      "source": [
        "batch_loss.sort(dim=1, descending=True)"
      ],
      "execution_count": 19,
      "outputs": [
        {
          "output_type": "execute_result",
          "data": {
            "text/plain": [
              "torch.return_types.sort(values=tensor([[347.],\n",
              "        [573.],\n",
              "        [768.],\n",
              "        [205.],\n",
              "        [ 65.],\n",
              "        [ 13.],\n",
              "        [ 32.],\n",
              "        [  0.],\n",
              "        [122.],\n",
              "        [227.],\n",
              "        [740.],\n",
              "        [341.]]), indices=tensor([[0],\n",
              "        [0],\n",
              "        [0],\n",
              "        [0],\n",
              "        [0],\n",
              "        [0],\n",
              "        [0],\n",
              "        [0],\n",
              "        [0],\n",
              "        [0],\n",
              "        [0],\n",
              "        [0]]))"
            ]
          },
          "metadata": {
            "tags": []
          },
          "execution_count": 19
        }
      ]
    },
    {
      "cell_type": "code",
      "metadata": {
        "id": "WtI9XLQSEw2A"
      },
      "source": [
        "class MultiBoxLoss(nn.Module):\n",
        "\n",
        "    def __init__(self, num_classes, overlap_thresh, prior_for_matching,\n",
        "                 bkg_label, neg_mining, neg_pos, neg_overlap, encode_target,\n",
        "                 use_gpu=True):\n",
        "        super(MultiBoxLoss, self).__init__()\n",
        "        self.use_gpu = use_gpu\n",
        "        '''有幾類別'''\n",
        "        self.num_classes = num_classes\n",
        "        '''判定為正樣本的threshold，一般設為0.5'''\n",
        "        self.threshold = overlap_thresh\n",
        "        '''background自己會有一類，不用Label，假如我們有20類一樣標註0-19，下方會自己空出一類給background'''\n",
        "        self.background_label = bkg_label\n",
        "        self.encode_target = encode_target\n",
        "        self.use_prior_for_matching = prior_for_matching\n",
        "        '''OHEM，找出分得最不好的樣品，也就是confidence score比較低的正負樣品'''\n",
        "        self.do_neg_mining = neg_mining\n",
        "        '''負樣品與正樣品的比例，通常是3:1'''\n",
        "        self.negpos_ratio = neg_pos\n",
        "        self.neg_overlap = neg_overlap\n",
        "        self.variance = cfg['variance']\n",
        "     \n",
        "\n",
        "    def forward(self, predictions, targets):\n",
        "\n",
        "        '''prediction會output三個值'''\n",
        "        '''loc shape: bounding box 資訊，torch.size(batch_size,num_priors,4)'''\n",
        "        '''conf shape: 每一個bounding box 的信心程度，torch.size(batch_size,num_priors,num_classes)'''\n",
        "        '''priors shape: 預設的defaul box， torch.size(num_priors,4)'''\n",
        "        loc_data, conf_data, priors = predictions\n",
        "        print(f'loc_data:{loc_data.size()}\\nconf_data:{conf_data.size()}\\npriors:{priors.size()}')\n",
        "        num = loc_data.size(0)\n",
        "        priors = priors[:loc_data.size(1), :]\n",
        "        num_priors = (priors.size(0))\n",
        "        num_classes = self.num_classes\n",
        "\n",
        "        # match priors (default boxes) and ground truth boxes\n",
        "        loc_t = torch.Tensor(num, num_priors, 4)\n",
        "        loc_t.requires_grad_ = False\n",
        "        conf_t = torch.LongTensor(num, num_priors)\n",
        "        conf_t.requires_grad_ =False\n",
        "        for idx in range(num):\n",
        "            truths = targets[idx][:, :-1].data\n",
        "            labels = targets[idx][:, -1].data\n",
        "            defaults = priors.data\n",
        "            '''jaccard 計算每一個BBOX與ground truth的IOU'''\n",
        "            match(self.threshold, truths, defaults, self.variance, labels,\n",
        "                  loc_t, conf_t, idx)\n",
        "        if self.use_gpu:\n",
        "            loc_t = loc_t.cuda()\n",
        "            conf_t = conf_t.cuda()\n",
        "        '''用Variable包裝'''\n",
        "        #loc_t = Variable(loc_t, requires_grad=False)\n",
        "        #conf_t = Variable(conf_t, requires_grad=False)\n",
        "\n",
        "        pos = conf_t > 0 #(batch_size, num_priors)\n",
        "        num_pos = pos.sum(dim=1, keepdim=True) #(batch_size, 1)\n",
        "\n",
        "\n",
        "        pos_idx = pos.unsqueeze(pos.dim()).expand_as(loc_data) #(batch_size, num_priors, 4) same as loc_data.size()\n",
        "        loc_p = loc_data[pos_idx].view(-1, 4)  #(batch_size*num_priors, 4)\n",
        "        loc_t = loc_t[pos_idx].view(-1, 4)     #(batch_size*num_priors, 4)\n",
        "        '''smooth_l1_loss 計算bounding box regression'''\n",
        "        #loss_l = F.smooth_l1_loss(loc_p, loc_t, size_average=False)\n",
        "        loss_l = F.smooth_l1_loss(loc_p, loc_t, reduction='sum')\n",
        "\n",
        "        # Compute max conf across batch for hard negative mining\n",
        "        batch_conf = conf_data.view(-1, self.num_classes) #(batch_size*num_priors, num_classes)\n",
        "        loss_c = log_sum_exp(batch_conf) - batch_conf.gather(1, conf_t.view(-1, 1)) \n",
        "        #conf_t(batch_size, num_priors) >> conf_t.view(-1, 1):(batch_size*num_priors, 1)\n",
        "        #log_sum_exp() : close to torch.nn.logSoftmax(), but is not exactly same.\n",
        "        # why log_sum_exp()https://blog.csdn.net/m0_37477175/article/details/79686164\n",
        "\n",
        "\n",
        "        # Hard Negative Mining\n",
        "        loss_c = loss_c.view(num, -1)#(batch_size, num_priors)\n",
        "        loss_c[pos] = 0 #remove positive loss\n",
        "\n",
        "\n",
        "        '''排列negative confidence 的分數'''\n",
        "        _, loss_idx = loss_c.sort(1, descending=True)#(batch_size, num_priors)\n",
        "        _, idx_rank = loss_idx.sort(1)#(batch_size, num_priors)\n",
        "        #loss_idx自己的idx 代表著\"對loss的排名\"，再對loss_idx值sorting一次則是希望將loss的排名還原到原loss的位置\n",
        "        num_pos = pos.long().sum(1, keepdim=True)#(batch_size, 1) num_pos per image <= max num_priors 8732\n",
        "        '''負樣品取出數量 == negpos_ratio*num_pos'''\n",
        "        num_neg = torch.clamp(self.negpos_ratio*num_pos, max=pos.size(1)-1)#(batch_size, 1)\n",
        "        # num_neg 3 times and clamp if num_neg larger than 8732(pos.size(1))\n",
        "        '''產生負樣品的遮罩: 將每一張統計出3倍正樣品的數量(等於負樣品數量)當作閥值當作產生負樣品的boolean mask'''\n",
        "        '''loss_idx = idx_rank'''\n",
        "        neg = idx_rank < num_neg.expand_as(idx_rank)\n",
        "\n",
        "        # Confidence Loss Including Positive and Negative Examples\n",
        "        pos_idx = pos.unsqueeze(2).expand_as(conf_data) #shape: [batch_size, num_priors, num_classes]\n",
        "        neg_idx = neg.unsqueeze(2).expand_as(conf_data) #shape: [batch_size, nun_priors, num_classes]\n",
        "        conf_p = conf_data[(pos_idx+neg_idx).gt(0)].view(-1, self.num_classes) #取出正負1:3的conf_data shape: [batch_size*num_priors, num_classes]\n",
        "        targets_weighted = conf_t[(pos+neg).gt(0)]#取出正負1:3的conf_t shape: [batch_size, num_priors]\n",
        "        #完成hard nagitive mining\n",
        "\n",
        "        '''用cross_entropy做分類'''\n",
        "        #loss_c = F.cross_entropy(conf_p, targets_weighted, size_average=False)\n",
        "        loss_c = F.cross_entropy(conf_p, targets_weighted, reduction='sum') #reduction 是sum非mean!! 先加總再留到後面計算出pos num in a batch的總數進行平均\n",
        "        # Sum of losses: L(x,c,l,g) = (Lconf(x, c) + αLloc(x,l,g)) / N\n",
        "        #double轉成torch.float64\n",
        "        N = num_pos.data.sum().double() #sum() over batch_size >> all positive num in a batch\n",
        "        loss_l = loss_l.double()\n",
        "        loss_c = loss_c.double()\n",
        "        loss_l /= N\n",
        "        loss_c /= N\n",
        "        return loss_l, loss_c\n"
      ],
      "execution_count": 20,
      "outputs": []
    },
    {
      "cell_type": "markdown",
      "metadata": {
        "id": "Mox3ioZRyWXi"
      },
      "source": [
        "# 研究兩次Sorting的效果"
      ]
    },
    {
      "cell_type": "code",
      "metadata": {
        "id": "wFzDJpITPZF9",
        "outputId": "edc73d2d-ef60-4aff-bf12-f0931d0e8760",
        "colab": {
          "base_uri": "https://localhost:8080/",
          "height": 187
        }
      },
      "source": [
        "#預設一組0-10的亂數\n",
        "a = torch.tensor(np.random.randint(0, 10, (10, 5)))\n",
        "a"
      ],
      "execution_count": 21,
      "outputs": [
        {
          "output_type": "execute_result",
          "data": {
            "text/plain": [
              "tensor([[4, 3, 9, 0, 9],\n",
              "        [7, 8, 9, 1, 1],\n",
              "        [2, 7, 2, 5, 7],\n",
              "        [0, 6, 8, 5, 5],\n",
              "        [8, 5, 5, 3, 6],\n",
              "        [5, 0, 7, 1, 7],\n",
              "        [6, 9, 6, 6, 3],\n",
              "        [1, 0, 0, 2, 9],\n",
              "        [9, 3, 3, 7, 5],\n",
              "        [7, 9, 4, 0, 0]])"
            ]
          },
          "metadata": {
            "tags": []
          },
          "execution_count": 21
        }
      ]
    },
    {
      "cell_type": "code",
      "metadata": {
        "id": "8tWUMGqJQBki",
        "outputId": "65141cc7-e6d1-4be5-d323-9172a530174f",
        "colab": {
          "base_uri": "https://localhost:8080/",
          "height": 357
        }
      },
      "source": [
        "#對這組亂數進行排序(descending)大到小，並取出排序後的值與index\n",
        "a_sort_value, a_sort_idx = a.sort(1, descending=True)\n",
        "print(f'sort_value:{a_sort_value}\\nsort_idx:{a_sort_idx}')"
      ],
      "execution_count": 22,
      "outputs": [
        {
          "output_type": "stream",
          "text": [
            "sort_value:tensor([[9, 9, 4, 3, 0],\n",
            "        [9, 8, 7, 1, 1],\n",
            "        [7, 7, 5, 2, 2],\n",
            "        [8, 6, 5, 5, 0],\n",
            "        [8, 6, 5, 5, 3],\n",
            "        [7, 7, 5, 1, 0],\n",
            "        [9, 6, 6, 6, 3],\n",
            "        [9, 2, 1, 0, 0],\n",
            "        [9, 7, 5, 3, 3],\n",
            "        [9, 7, 4, 0, 0]])\n",
            "sort_idx:tensor([[2, 4, 0, 1, 3],\n",
            "        [2, 1, 0, 3, 4],\n",
            "        [1, 4, 3, 0, 2],\n",
            "        [2, 1, 3, 4, 0],\n",
            "        [0, 4, 1, 2, 3],\n",
            "        [2, 4, 0, 3, 1],\n",
            "        [1, 0, 2, 3, 4],\n",
            "        [4, 3, 0, 1, 2],\n",
            "        [0, 3, 4, 1, 2],\n",
            "        [1, 0, 2, 3, 4]])\n"
          ],
          "name": "stdout"
        }
      ]
    },
    {
      "cell_type": "code",
      "metadata": {
        "id": "Ajg6Y2SyTTAQ",
        "outputId": "811bc4d6-3756-4fbc-e66d-b29741d032ee",
        "colab": {
          "base_uri": "https://localhost:8080/",
          "height": 340
        }
      },
      "source": [
        "# [Key Concept]排序後的index(a_sort_idx)，本身也是一組序列以及自身的idx，此時自己的idx代表排序後的結果。\n",
        "# 若將a_sort_idx針對value進行一次排序(小到大)則還原為原tensor的順序，則a_sort_idx自己的idx(非value)還原到原tensor的排名。\n",
        "a_sort_idx_value, a_sort_idx_rank = a_sort_idx.sort(1)\n",
        "a_sort_idx_value, a_sort_idx_rank"
      ],
      "execution_count": 23,
      "outputs": [
        {
          "output_type": "execute_result",
          "data": {
            "text/plain": [
              "(tensor([[0, 1, 2, 3, 4],\n",
              "         [0, 1, 2, 3, 4],\n",
              "         [0, 1, 2, 3, 4],\n",
              "         [0, 1, 2, 3, 4],\n",
              "         [0, 1, 2, 3, 4],\n",
              "         [0, 1, 2, 3, 4],\n",
              "         [0, 1, 2, 3, 4],\n",
              "         [0, 1, 2, 3, 4],\n",
              "         [0, 1, 2, 3, 4],\n",
              "         [0, 1, 2, 3, 4]]), tensor([[2, 3, 0, 4, 1],\n",
              "         [2, 1, 0, 3, 4],\n",
              "         [3, 0, 4, 2, 1],\n",
              "         [4, 1, 0, 2, 3],\n",
              "         [0, 2, 3, 4, 1],\n",
              "         [2, 4, 0, 3, 1],\n",
              "         [1, 0, 2, 3, 4],\n",
              "         [2, 3, 4, 1, 0],\n",
              "         [0, 3, 4, 1, 2],\n",
              "         [1, 0, 2, 3, 4]]))"
            ]
          },
          "metadata": {
            "tags": []
          },
          "execution_count": 23
        }
      ]
    },
    {
      "cell_type": "code",
      "metadata": {
        "id": "Fit5sa05atZj",
        "outputId": "42cc501f-0973-461d-8b1e-8804db71dc04",
        "colab": {
          "base_uri": "https://localhost:8080/",
          "height": 527
        }
      },
      "source": [
        "#確認兩次排序後的對應原序列的排名結果\n",
        "for idx  in range(len(a)):\n",
        "    print(f'a   :{a[idx]}\\nrank:{a_sort_idx_rank[idx]}')\n",
        "    print()"
      ],
      "execution_count": 31,
      "outputs": [
        {
          "output_type": "stream",
          "text": [
            "a   :tensor([4, 3, 9, 0, 9])\n",
            "rank:tensor([2, 3, 0, 4, 1])\n",
            "\n",
            "a   :tensor([7, 8, 9, 1, 1])\n",
            "rank:tensor([2, 1, 0, 3, 4])\n",
            "\n",
            "a   :tensor([2, 7, 2, 5, 7])\n",
            "rank:tensor([3, 0, 4, 2, 1])\n",
            "\n",
            "a   :tensor([0, 6, 8, 5, 5])\n",
            "rank:tensor([4, 1, 0, 2, 3])\n",
            "\n",
            "a   :tensor([8, 5, 5, 3, 6])\n",
            "rank:tensor([0, 2, 3, 4, 1])\n",
            "\n",
            "a   :tensor([5, 0, 7, 1, 7])\n",
            "rank:tensor([2, 4, 0, 3, 1])\n",
            "\n",
            "a   :tensor([6, 9, 6, 6, 3])\n",
            "rank:tensor([1, 0, 2, 3, 4])\n",
            "\n",
            "a   :tensor([1, 0, 0, 2, 9])\n",
            "rank:tensor([2, 3, 4, 1, 0])\n",
            "\n",
            "a   :tensor([9, 3, 3, 7, 5])\n",
            "rank:tensor([0, 3, 4, 1, 2])\n",
            "\n",
            "a   :tensor([7, 9, 4, 0, 0])\n",
            "rank:tensor([1, 0, 2, 3, 4])\n",
            "\n"
          ],
          "name": "stdout"
        }
      ]
    },
    {
      "cell_type": "markdown",
      "metadata": {
        "id": "xwnyJmLYbs4q"
      },
      "source": [
        "## Matching >> Prior boxes with Ground Truth boxes\n",
        "## 匹配的概念簡述:\n",
        "---\n",
        "### 為什麼要做匹配?\n",
        "TBD\n",
        "### 匹配三元素\n",
        "### **Prior-Boxes**\n",
        "- 一個偵測模型可設定PriorBoxes = DefaultBoxes = AnchorBoxes的數量分配。\n",
        "以SSD來說依照輸出feature maps定義每個feature map上每個cell的prior boxes的數量以及對應的長寬比，總結來說SSD共有6個feature maps對應設計出prior box的數量共8732個。\n",
        "- **PriorBoxes**: (num_priors, 4) \n",
        "- Paper 原文設定**8732**個prior boxes\n",
        "\n",
        "\n",
        "### **Prediction**\n",
        "- 兩大輸出: PredBoxes 和 class confidence (預測框和類別信心度)，數量上會和預設的Prior-Boxes一樣(8732)\n",
        "- **PredBoxes**: (batch_size, num_priors, 4)\n",
        "- **ClassConfidence**: (batch_size, num_priors, num_classes) \n",
        "\n",
        "### **Groud Truth Boxes**\n",
        "\n",
        "- **Truth-Boxes**: (batch_size, None, 5)(None:每張照片所含的目標數不固定, 4:(box)+1(class))\n",
        "\n",
        "---\n",
        "### **如何匹配** >> 覺得匹配應該設計在training pipe之外，在training process會造成矩陣加速器不快\n",
        "\n",
        "#### Prior Boxes vs Ground Truth Boxes\n",
        "以一張照片為單位說明:\n",
        "1. 一張照片預設有prior boxes(8723)大大小小個框和定義的truth boxes(數量不定)交互計算IoU(jaccard index)，找出每個prior box對應到最大IoU 的truth boxes。\n",
        "2. 將每個prior box對應最大IoU的truth box定義為matches與prior box總數相同共8723 match_truth_box\n",
        "3. 進行編碼(將truth box與prior box的box中心座標和box寬高準換成相對表示法)\n",
        "4. 類似第二步中，將每個prior box對應最大IoU的truth box其類別信心度也是共8732個信心度篩選出來，並將這些信心度所對應的IoU做篩選，小於IoU閥值的信心度設為零及代表背景，非零的類別則順勢加一。(0:背景, 1-20:類別)\n",
        "5. 總共得到Truth boxes對應到Prior Boxes的相對Box座標和類別信心度，共8723個。\n",
        "\n",
        "---\n",
        "- 實作中是以一張照片為單位進行匹配，因此批次計算中是以迴圈迭代張張計算(比較沒效率，可以想想batch向量處理的可能性)\n",
        "---\n",
        "6. 匹配後，將焦點放到信心度。與truth box匹配過的loc_t可以得知8732個中有那些為零的背景，那些為非零的目標待選者。\n",
        "7. 捨棄背景保留目標待測框，即為所謂的正樣品。並進行L1_smooth_loss計算\n",
        "\n",
        "```\n",
        "def match(threshold, truths, priors, variances, labels, loc_t, conf_t, idx):\n",
        "    \"\"\"Match each prior box with the ground truth box of the highest jaccard\n",
        "    overlap, encode the bounding boxes, then return the matched indices\n",
        "    corresponding to both confidence and location preds.\n",
        "    Args:\n",
        "        threshold: (float) The overlap threshold used when mathing boxes.\n",
        "        truths: (tensor) Ground truth boxes, Shape: [num_obj, num_priors].\n",
        "        priors: (tensor) Prior boxes from priorbox layers, Shape: [n_priors,4].\n",
        "        variances: (tensor) Variances corresponding to each prior coord,\n",
        "            Shape: [num_priors, 4].\n",
        "        labels: (tensor) All the class labels for the image, Shape: [num_obj].\n",
        "        loc_t: (tensor) Tensor to be filled w/ endcoded location targets.\n",
        "        conf_t: (tensor) Tensor to be filled w/ matched indices for conf preds.\n",
        "        idx: (int) current batch index\n",
        "    Return:\n",
        "        The matched indices corresponding to 1)location and 2)confidence preds.\n",
        "    \"\"\"\n",
        "    # jaccard index\n",
        "    overlaps = jaccard(\n",
        "        truths,\n",
        "        point_form(priors)\n",
        "    )\n",
        "    # (Bipartite Matching)\n",
        "    # [1,num_objects] best prior for each ground truth\n",
        "    best_prior_overlap, best_prior_idx = overlaps.max(1, keepdim=True)\n",
        "    # [1,num_priors] best ground truth for each prior\n",
        "    best_truth_overlap, best_truth_idx = overlaps.max(0, keepdim=True)\n",
        "    best_truth_idx.squeeze_(0)\n",
        "    best_truth_overlap.squeeze_(0)\n",
        "    best_prior_idx.squeeze_(1)\n",
        "    best_prior_overlap.squeeze_(1)\n",
        "    best_truth_overlap.index_fill_(0, best_prior_idx, 2)  # ensure best prior\n",
        "    # TODO refactor: index  best_prior_idx with long tensor\n",
        "    # ensure every gt matches with its prior of max overlap\n",
        "    for j in range(best_prior_idx.size(0)):\n",
        "        best_truth_idx[best_prior_idx[j]] = j\n",
        "    matches = truths[best_truth_idx]          # Shape: [num_priors,4]\n",
        "    conf = labels[best_truth_idx] + 1         # Shape: [num_priors]\n",
        "    conf[best_truth_overlap < threshold] = 0  # label as background\n",
        "    loc = encode(matches, priors, variances)\n",
        "    loc_t[idx] = loc    # [num_priors,4] encoded offsets to learn\n",
        "    conf_t[idx] = conf  # [num_priors] top class label for each prior\n",
        "```"
      ]
    },
    {
      "cell_type": "markdown",
      "metadata": {
        "id": "Y8HNYhs3Ew2E"
      },
      "source": [
        "## 產生我們Loss function，注意這裡的class要包含背景"
      ]
    },
    {
      "cell_type": "code",
      "metadata": {
        "id": "6AqSlOXaEw2F"
      },
      "source": [
        "Use_cuda=False\n",
        "criterion = MultiBoxLoss(num_classes=21,\n",
        "                         overlap_thresh=0.5, \n",
        "                         prior_for_matching = True, \n",
        "                         bkg_label = 0,\n",
        "                         neg_mining = False,\n",
        "                         neg_pos = 3,\n",
        "                         neg_overlap = 0.5,\n",
        "                         encode_target = False,\n",
        "                         use_gpu = Use_cuda,)"
      ],
      "execution_count": 21,
      "outputs": []
    },
    {
      "cell_type": "markdown",
      "metadata": {
        "id": "t9LKUty-Ew2J"
      },
      "source": [
        "----"
      ]
    },
    {
      "cell_type": "markdown",
      "metadata": {
        "id": "Qq-Wl0CpEw2J"
      },
      "source": [
        "## 基本設定"
      ]
    },
    {
      "cell_type": "code",
      "metadata": {
        "id": "vLPOt6xiEw2K"
      },
      "source": [
        "ssd_net=build_ssd('train', size=300, num_classes=21)\n",
        "use_pretrained=False\n",
        "if use_pretrained:\n",
        "    ssd_net.load_weights('./demo/ssd300_mAP_77.43_v2.pth')\n",
        "net=ssd_net"
      ],
      "execution_count": 24,
      "outputs": []
    },
    {
      "cell_type": "code",
      "metadata": {
        "id": "k8k3FRDmEw2N"
      },
      "source": [
        "'''要不要使用gpu'''\n",
        "Use_cuda=False\n",
        "\n",
        "'''tensor type會依照cpu或gpu有所不同'''\n",
        "if torch.cuda.is_available():\n",
        "    if Use_cuda:\n",
        "        torch.set_default_tensor_type('torch.cuda.FloatTensor')\n",
        "    if not Use_cuda:\n",
        "        print(\"WARNING: It looks like you have a CUDA device, but aren't \" +\n",
        "              \"using CUDA.\\nRun with --cuda for optimal training speed.\")\n",
        "        torch.set_default_tensor_type('torch.FloatTensor')\n",
        "else:\n",
        "    torch.set_default_tensor_type('torch.FloatTensor')\n",
        "\n",
        "'''使用GPU時可以開啟DataParallel，但當Input是不定大小時，要關掉'''\n",
        "if Use_cuda:\n",
        "    net = torch.nn.DataParallel(ssd_net)\n",
        "    cudnn.benchmark = True\n",
        "'''使用GPU時模型要轉成cuda'''\n",
        "if Use_cuda:\n",
        "    net = net.cuda()\n",
        "    \n",
        "batch_size_=1\n",
        "optimizer = optim.Adam(net.parameters(),lr=0.00001/batch_size_)"
      ],
      "execution_count": 25,
      "outputs": []
    },
    {
      "cell_type": "markdown",
      "metadata": {
        "id": "1EJlgH6nEw2Q"
      },
      "source": [
        "---"
      ]
    },
    {
      "cell_type": "markdown",
      "metadata": {
        "id": "EnVkRmNNEw2R"
      },
      "source": [
        "## 訓練"
      ]
    },
    {
      "cell_type": "markdown",
      "metadata": {
        "id": "TuUFLVRIEw2R"
      },
      "source": [
        "## 這裡我們先示範輸入的 image,Label格式，真正在訓練時，準備成一樣格式即可"
      ]
    },
    {
      "cell_type": "code",
      "metadata": {
        "id": "SuLqsymQEw2S",
        "outputId": "eae3c9de-e986-497c-ada5-aff42a320ba9",
        "colab": {
          "base_uri": "https://localhost:8080/",
          "height": 71
        }
      },
      "source": [
        "'''輸入影像格式，假設batch size 為 4'''\n",
        "image_in=torch.tensor(torch.rand(4,3,300,300),dtype=torch.float32)\n",
        "'''Label格式，沒有固定長度，看圖像中有幾個label就有幾個'''\n",
        "label_0=[[ 0.1804,  0.6076,  0.7701,  0.8485, 0.0000],\n",
        "       [ 0.2250,  0.0000,  0.9238,  0.5641, 3.0000],\n",
        "       [ 0.2250,  0.0000,  0.9238,  0.5641, 19.0000],\n",
        "       [ 0.2950,  0.0000,  0.8238,  0.3641, 6.0000],]\n",
        "label_1=[[ 0.1804,  0.6076,  0.7701,  0.8485, 13.0000],\n",
        "       [ 0.2250,  0.0000,  0.9238,  0.5641, 11.0000],\n",
        "       [ 0.2250,  0.0000,  0.9238,  0.5641, 7.0000],\n",
        "       [ 0.2950,  0.0000,  0.8238,  0.3641, 5.0000],]\n",
        "label_2=[[ 0.1804,  0.6076,  0.7701,  0.8485, 0.0000],\n",
        "       [ 0.2250,  0.0000,  0.9238,  0.5641, 3.0000],\n",
        "       [ 0.2250,  0.0000,  0.9238,  0.5641, 14.0000],\n",
        "       [ 0.2950,  0.0000,  0.8238,  0.3641, 6.0000],]\n",
        "label_3=[[ 0.1804,  0.6076,  0.7701,  0.8485, 0.0000],\n",
        "       [ 0.2250,  0.0000,  0.9238,  0.5641, 3.0000],\n",
        "       [ 0.2250,  0.0000,  0.9238,  0.5641, 19.0000],\n",
        "       [ 0.2950,  0.0000,  0.8238,  0.3641, 6.0000],]"
      ],
      "execution_count": 26,
      "outputs": [
        {
          "output_type": "stream",
          "text": [
            "/usr/local/lib/python3.6/dist-packages/ipykernel_launcher.py:2: UserWarning: To copy construct from a tensor, it is recommended to use sourceTensor.clone().detach() or sourceTensor.clone().detach().requires_grad_(True), rather than torch.tensor(sourceTensor).\n",
            "  \n"
          ],
          "name": "stderr"
        }
      ]
    },
    {
      "cell_type": "code",
      "metadata": {
        "id": "wH6BEZ9SEw2V"
      },
      "source": [
        "epochs=1#300\n",
        "iteration=10#1000"
      ],
      "execution_count": 38,
      "outputs": []
    },
    {
      "cell_type": "code",
      "metadata": {
        "id": "iec54pZ0Ew2Y",
        "outputId": "72140f37-e96d-434e-f89d-968aa09cf88f",
        "colab": {
          "base_uri": "https://localhost:8080/",
          "height": 610,
          "referenced_widgets": [
            "2ab53edee0da4da78364be7bf1d5703c",
            "24a78367ec664a10b690cce12946862b",
            "fa92e45258334b21ad0efcf72a3daef8",
            "0ef7f8e625b4491fb14a76fc01977500",
            "29b28de84dec43d5b2f2601b1ba8a27b",
            "380f574bb94e410eb0453f8a1fc7f219",
            "7b018bcf04e24decb0507258c6d30eb6",
            "fa10f6fee5174fd392db1058bcb4bf98"
          ]
        }
      },
      "source": [
        "from tqdm.notebook import tqdm\n",
        "for epoch in range(epochs):\n",
        "    n=0\n",
        "    loss_sum=[]\n",
        "    loc_loss=[]\n",
        "    conf_loss=[]\n",
        "    for number__ in tqdm(range(iteration)):\n",
        "        '''要用Variable包裝tensor才能送入模型'''\n",
        "        if Use_cuda:\n",
        "            image_ = Variable(image_in.cuda())\n",
        "            y = [Variable(torch.tensor(label_0).cuda(), volatile=True),Variable(torch.tensor(label_1).cuda(), \n",
        "                volatile=True),Variable(torch.tensor(label_2).cuda(), volatile=True),Variable(torch.tensor(label_3).cuda(), volatile=True)]      \n",
        "        else:\n",
        "            '''\n",
        "            image_ = Variable(image_in)\n",
        "            y = [Variable(torch.tensor(label_0), volatile=True),Variable(torch.tensor(label_1), \n",
        "                volatile=True),Variable(torch.tensor(label_2), volatile=True),Variable(torch.tensor(label_3), volatile=True)]\n",
        "            '''\n",
        "            image_ = image_in.clone().detach().requires_grad_(False)\n",
        "            y = [torch.tensor(label_0, requires_grad=False), torch.tensor(label_1, requires_grad=False), \n",
        "                 torch.tensor(label_2, requires_grad=False), torch.tensor(label_3, requires_grad=False)]\n",
        "\n",
        "        '''Forward Pass'''\n",
        "        out = net(image_)\n",
        "        '''Regression Loss and Classification Loss'''\n",
        "        loss_l,loss_c = criterion(out,y )\n",
        "        loss = loss_l+ loss_c\n",
        "        '''Backward'''\n",
        "        loss.backward()\n",
        "\n",
        "        loc_loss.append(loss_l.data.cpu().numpy())\n",
        "        conf_loss.append(loss_c.data.cpu().numpy())\n",
        "        loss_sum.append(loss.data.cpu().numpy())\n",
        "        '''更新參數'''\n",
        "        optimizer.step()\n",
        "        '''清空Gradients'''\n",
        "        optimizer.zero_grad()\n",
        "        \n",
        "        n+=1\n",
        "        if n%10==0:\n",
        "            print('BBOX Regression Loss: ', np.mean(loc_loss))\n",
        "            print('Classification Loss: ', np.mean(conf_loss))\n",
        "    '''儲存權重'''\n",
        "    #torch.save(ssd_net.state_dict(),'weights/Ｗeights.pth')"
      ],
      "execution_count": 137,
      "outputs": [
        {
          "output_type": "display_data",
          "data": {
            "application/vnd.jupyter.widget-view+json": {
              "model_id": "2ab53edee0da4da78364be7bf1d5703c",
              "version_minor": 0,
              "version_major": 2
            },
            "text/plain": [
              "HBox(children=(FloatProgress(value=0.0, max=10.0), HTML(value='')))"
            ]
          },
          "metadata": {
            "tags": []
          }
        },
        {
          "output_type": "stream",
          "text": [
            "loc_data:torch.Size([4, 8732, 4])\n",
            "conf_data:torch.Size([4, 8732, 21])\n",
            "priors:torch.Size([8732, 4])\n",
            "loc_data:torch.Size([4, 8732, 4])\n",
            "conf_data:torch.Size([4, 8732, 21])\n",
            "priors:torch.Size([8732, 4])\n",
            "loc_data:torch.Size([4, 8732, 4])\n",
            "conf_data:torch.Size([4, 8732, 21])\n",
            "priors:torch.Size([8732, 4])\n",
            "loc_data:torch.Size([4, 8732, 4])\n",
            "conf_data:torch.Size([4, 8732, 21])\n",
            "priors:torch.Size([8732, 4])\n",
            "loc_data:torch.Size([4, 8732, 4])\n",
            "conf_data:torch.Size([4, 8732, 21])\n",
            "priors:torch.Size([8732, 4])\n",
            "loc_data:torch.Size([4, 8732, 4])\n",
            "conf_data:torch.Size([4, 8732, 21])\n",
            "priors:torch.Size([8732, 4])\n",
            "loc_data:torch.Size([4, 8732, 4])\n",
            "conf_data:torch.Size([4, 8732, 21])\n",
            "priors:torch.Size([8732, 4])\n",
            "loc_data:torch.Size([4, 8732, 4])\n",
            "conf_data:torch.Size([4, 8732, 21])\n",
            "priors:torch.Size([8732, 4])\n",
            "loc_data:torch.Size([4, 8732, 4])\n",
            "conf_data:torch.Size([4, 8732, 21])\n",
            "priors:torch.Size([8732, 4])\n",
            "loc_data:torch.Size([4, 8732, 4])\n",
            "conf_data:torch.Size([4, 8732, 21])\n",
            "priors:torch.Size([8732, 4])\n",
            "BBOX Regression Loss:  2.4801545037163626\n",
            "Classification Loss:  12.131570773654513\n",
            "\n"
          ],
          "name": "stdout"
        }
      ]
    }
  ]
}