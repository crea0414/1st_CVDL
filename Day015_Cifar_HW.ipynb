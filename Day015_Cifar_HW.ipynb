{
  "nbformat": 4,
  "nbformat_minor": 0,
  "metadata": {
    "kernelspec": {
      "name": "python3",
      "display_name": "Python 3"
    },
    "language_info": {
      "codemirror_mode": {
        "name": "ipython",
        "version": 3
      },
      "file_extension": ".py",
      "mimetype": "text/x-python",
      "name": "python",
      "nbconvert_exporter": "python",
      "pygments_lexer": "ipython3",
      "version": "3.6.7"
    },
    "colab": {
      "name": "Day015_Cifar_HW.ipynb",
      "provenance": [],
      "include_colab_link": true
    },
    "accelerator": "GPU"
  },
  "cells": [
    {
      "cell_type": "markdown",
      "metadata": {
        "id": "view-in-github",
        "colab_type": "text"
      },
      "source": [
        "<a href=\"https://colab.research.google.com/github/crea0414/1st_CVDL/blob/master/Day015_Cifar_HW.ipynb\" target=\"_parent\"><img src=\"https://colab.research.google.com/assets/colab-badge.svg\" alt=\"Open In Colab\"/></a>"
      ]
    },
    {
      "cell_type": "markdown",
      "metadata": {
        "id": "I3KyK1Cjy9oD",
        "colab_type": "text"
      },
      "source": [
        "## 『本次練習內容』\n",
        "#### 運用這幾天所學觀念搭建一個CNN分類器"
      ]
    },
    {
      "cell_type": "markdown",
      "metadata": {
        "id": "BtmvZKa-y9oG",
        "colab_type": "text"
      },
      "source": [
        "## 『本次練習目的』\n",
        "  #### 熟悉CNN分類器搭建步驟與原理\n",
        "  #### 學員們可以嘗試不同搭法，如使用不同的Maxpooling層，用GlobalAveragePooling取代Flatten等等"
      ]
    },
    {
      "cell_type": "code",
      "metadata": {
        "id": "MHF7L7L4y9oH",
        "colab_type": "code",
        "colab": {
          "base_uri": "https://localhost:8080/",
          "height": 80
        },
        "outputId": "b3d8b824-7c97-4490-e306-6e2f5b3c6734"
      },
      "source": [
        "from keras.models import Sequential\n",
        "from keras.layers import Conv2D\n",
        "from keras.layers import MaxPooling2D\n",
        "from keras.layers import Flatten, GlobalAvgPool2D\n",
        "from keras.layers import Dense\n",
        "from keras.layers import Dropout\n",
        "from keras.layers import BatchNormalization\n",
        "from keras.optimizers import Adam\n",
        "from keras.callbacks import EarlyStopping, ReduceLROnPlateau\n",
        "from keras.datasets import cifar10\n",
        "import numpy as np\n",
        "import pandas as pd\n",
        "import tensorflow as tf\n",
        "from sklearn.preprocessing import OneHotEncoder\n",
        "from sklearn.model_selection import train_test_split\n"
      ],
      "execution_count": 1,
      "outputs": [
        {
          "output_type": "stream",
          "text": [
            "Using TensorFlow backend.\n"
          ],
          "name": "stderr"
        },
        {
          "output_type": "display_data",
          "data": {
            "text/html": [
              "<p style=\"color: red;\">\n",
              "The default version of TensorFlow in Colab will soon switch to TensorFlow 2.x.<br>\n",
              "We recommend you <a href=\"https://www.tensorflow.org/guide/migrate\" target=\"_blank\">upgrade</a> now \n",
              "or ensure your notebook will continue to use TensorFlow 1.x via the <code>%tensorflow_version 1.x</code> magic:\n",
              "<a href=\"https://colab.research.google.com/notebooks/tensorflow_version.ipynb\" target=\"_blank\">more info</a>.</p>\n"
            ],
            "text/plain": [
              "<IPython.core.display.HTML object>"
            ]
          },
          "metadata": {
            "tags": []
          }
        }
      ]
    },
    {
      "cell_type": "code",
      "metadata": {
        "id": "6pRARwUYy9oN",
        "colab_type": "code",
        "colab": {
          "base_uri": "https://localhost:8080/",
          "height": 34
        },
        "outputId": "1f3befb6-791d-4fd6-cd21-aa3beb73badf"
      },
      "source": [
        "(x_train, y_train), (x_test, y_test) = cifar10.load_data()\n",
        "\n",
        "print(x_train.shape) #(50000, 32, 32, 3)\n",
        "\n",
        "## Normalize Data\n",
        "def normalize(X_train,X_test):\n",
        "    mean = np.mean(X_train,axis=(0, 1, 2, 3))\n",
        "    std = np.std(X_train, axis=(0, 1, 2, 3))\n",
        "    X_train = (X_train-mean)/(std+1e-7)\n",
        "    X_test = (X_test-mean)/(std+1e-7) \n",
        "    return X_train, X_test,mean,std\n",
        "    \n",
        "    \n",
        "## Normalize Training and Testset    \n",
        "x_train, x_test,mean_train,std_train = normalize(x_train, x_test) \n",
        "x_train, x_valid, y_train, y_valid = train_test_split(x_train, y_train, stratify=y_train, test_size=0.2)"
      ],
      "execution_count": 2,
      "outputs": [
        {
          "output_type": "stream",
          "text": [
            "(50000, 32, 32, 3)\n"
          ],
          "name": "stdout"
        }
      ]
    },
    {
      "cell_type": "code",
      "metadata": {
        "id": "qASj7PSxy9oR",
        "colab_type": "code",
        "colab": {
          "base_uri": "https://localhost:8080/",
          "height": 174
        },
        "outputId": "d6d66a3a-9b4a-4b12-cb5e-6e4f26287f8a"
      },
      "source": [
        "## OneHot Label 由(None, 1)-(None, 10)\n",
        "## ex. label=2,變成[0,0,1,0,0,0,0,0,0,0]\n",
        "one_hot=OneHotEncoder()\n",
        "y_train=one_hot.fit_transform(y_train).toarray()\n",
        "y_valid=one_hot.fit_transform(y_valid).toarray()\n",
        "y_test=one_hot.transform(y_test).toarray()"
      ],
      "execution_count": 3,
      "outputs": [
        {
          "output_type": "stream",
          "text": [
            "/usr/local/lib/python3.6/dist-packages/sklearn/preprocessing/_encoders.py:415: FutureWarning: The handling of integer data will change in version 0.22. Currently, the categories are determined based on the range [0, max(values)], while in the future they will be determined based on the unique values.\n",
            "If you want the future behaviour and silence this warning, you can specify \"categories='auto'\".\n",
            "In case you used a LabelEncoder before this OneHotEncoder to convert the categories to integers, then you can now use the OneHotEncoder directly.\n",
            "  warnings.warn(msg, FutureWarning)\n",
            "/usr/local/lib/python3.6/dist-packages/sklearn/preprocessing/_encoders.py:415: FutureWarning: The handling of integer data will change in version 0.22. Currently, the categories are determined based on the range [0, max(values)], while in the future they will be determined based on the unique values.\n",
            "If you want the future behaviour and silence this warning, you can specify \"categories='auto'\".\n",
            "In case you used a LabelEncoder before this OneHotEncoder to convert the categories to integers, then you can now use the OneHotEncoder directly.\n",
            "  warnings.warn(msg, FutureWarning)\n"
          ],
          "name": "stderr"
        }
      ]
    },
    {
      "cell_type": "code",
      "metadata": {
        "id": "wYDzXh4Xy9oU",
        "colab_type": "code",
        "colab": {
          "base_uri": "https://localhost:8080/",
          "height": 1000
        },
        "outputId": "8d6314b9-1b71-437a-e91e-c9986f4ae66d"
      },
      "source": [
        "classifier=Sequential()\n",
        "\n",
        "#卷積組合\n",
        "classifier.add(Conv2D(filters=32, kernel_size=(3, 3), input_shape=(32, 32, 3), activation='relu'))#32,3,3,input_shape=(32,32,3),activation='relu''\n",
        "classifier.add(BatchNormalization(axis=-1))\n",
        "\n",
        "'''自己決定MaxPooling2D放在哪裡'''\n",
        "#classifier.add(MaxPooling2D(pool_size=(2,2)))\n",
        "\n",
        "#卷積組合\n",
        "classifier.add(Conv2D(filters=64, kernel_size=(3, 3), input_shape=(32, 32, 3), activation='relu'))\n",
        "classifier.add(BatchNormalization())\n",
        "classifier.add(MaxPooling2D(pool_size=(2,2)))\n",
        "#comninatio\n",
        "classifier.add(Conv2D(filters=64, kernel_size=(3, 3), input_shape=(32, 32, 3), activation='relu'))\n",
        "classifier.add(BatchNormalization())\n",
        "classifier.add(MaxPooling2D(pool_size=(2,2)))\n",
        "\n",
        "#flatten\n",
        "#classifier.add(Flatten())\n",
        "classifier.add(GlobalAvgPool2D())\n",
        "\n",
        "#FC\n",
        "#classifier.add(Dense(100, activation='relu')) #output_dim=100,activation=relu\n",
        "\n",
        "#輸出\n",
        "classifier.add(Dense(output_dim=10,activation='softmax'))\n",
        "\n",
        "#optimizer:\n",
        "adam = Adam(lr=0.01)\n",
        "#callbacks\n",
        "lr_reducer = ReduceLROnPlateau(monitor='val_acc', mode='max', factor=0.5, patience=2, verbose=1)\n",
        "stop = EarlyStopping(monitor='val_acc', patience=5, mode='max', verbose=1)\n",
        "\n",
        "#超過兩個就要選categorical_crossentrophy\n",
        "classifier.compile(optimizer = adam, loss = 'categorical_crossentropy', metrics = ['accuracy'])\n",
        "history = classifier.fit(x_train,y_train,batch_size=100,epochs=30, callbacks=[lr_reducer, stop],\n",
        "                         validation_data=(x_valid, y_valid))"
      ],
      "execution_count": 4,
      "outputs": [
        {
          "output_type": "stream",
          "text": [
            "WARNING:tensorflow:From /usr/local/lib/python3.6/dist-packages/keras/backend/tensorflow_backend.py:66: The name tf.get_default_graph is deprecated. Please use tf.compat.v1.get_default_graph instead.\n",
            "\n",
            "WARNING:tensorflow:From /usr/local/lib/python3.6/dist-packages/keras/backend/tensorflow_backend.py:541: The name tf.placeholder is deprecated. Please use tf.compat.v1.placeholder instead.\n",
            "\n",
            "WARNING:tensorflow:From /usr/local/lib/python3.6/dist-packages/keras/backend/tensorflow_backend.py:4432: The name tf.random_uniform is deprecated. Please use tf.random.uniform instead.\n",
            "\n",
            "WARNING:tensorflow:From /usr/local/lib/python3.6/dist-packages/keras/backend/tensorflow_backend.py:190: The name tf.get_default_session is deprecated. Please use tf.compat.v1.get_default_session instead.\n",
            "\n",
            "WARNING:tensorflow:From /usr/local/lib/python3.6/dist-packages/keras/backend/tensorflow_backend.py:197: The name tf.ConfigProto is deprecated. Please use tf.compat.v1.ConfigProto instead.\n",
            "\n",
            "WARNING:tensorflow:From /usr/local/lib/python3.6/dist-packages/keras/backend/tensorflow_backend.py:203: The name tf.Session is deprecated. Please use tf.compat.v1.Session instead.\n",
            "\n",
            "WARNING:tensorflow:From /usr/local/lib/python3.6/dist-packages/keras/backend/tensorflow_backend.py:207: The name tf.global_variables is deprecated. Please use tf.compat.v1.global_variables instead.\n",
            "\n",
            "WARNING:tensorflow:From /usr/local/lib/python3.6/dist-packages/keras/backend/tensorflow_backend.py:216: The name tf.is_variable_initialized is deprecated. Please use tf.compat.v1.is_variable_initialized instead.\n",
            "\n",
            "WARNING:tensorflow:From /usr/local/lib/python3.6/dist-packages/keras/backend/tensorflow_backend.py:223: The name tf.variables_initializer is deprecated. Please use tf.compat.v1.variables_initializer instead.\n",
            "\n",
            "WARNING:tensorflow:From /usr/local/lib/python3.6/dist-packages/keras/backend/tensorflow_backend.py:2041: The name tf.nn.fused_batch_norm is deprecated. Please use tf.compat.v1.nn.fused_batch_norm instead.\n",
            "\n",
            "WARNING:tensorflow:From /usr/local/lib/python3.6/dist-packages/keras/backend/tensorflow_backend.py:148: The name tf.placeholder_with_default is deprecated. Please use tf.compat.v1.placeholder_with_default instead.\n",
            "\n",
            "WARNING:tensorflow:From /usr/local/lib/python3.6/dist-packages/keras/backend/tensorflow_backend.py:4267: The name tf.nn.max_pool is deprecated. Please use tf.nn.max_pool2d instead.\n",
            "\n",
            "WARNING:tensorflow:From /usr/local/lib/python3.6/dist-packages/keras/optimizers.py:793: The name tf.train.Optimizer is deprecated. Please use tf.compat.v1.train.Optimizer instead.\n",
            "\n",
            "WARNING:tensorflow:From /usr/local/lib/python3.6/dist-packages/keras/backend/tensorflow_backend.py:3576: The name tf.log is deprecated. Please use tf.math.log instead.\n",
            "\n",
            "WARNING:tensorflow:From /usr/local/lib/python3.6/dist-packages/tensorflow_core/python/ops/math_grad.py:1424: where (from tensorflow.python.ops.array_ops) is deprecated and will be removed in a future version.\n",
            "Instructions for updating:\n",
            "Use tf.where in 2.0, which has the same broadcast rule as np.where\n"
          ],
          "name": "stdout"
        },
        {
          "output_type": "stream",
          "text": [
            "/usr/local/lib/python3.6/dist-packages/ipykernel_launcher.py:27: UserWarning: Update your `Dense` call to the Keras 2 API: `Dense(activation=\"softmax\", units=10)`\n"
          ],
          "name": "stderr"
        },
        {
          "output_type": "stream",
          "text": [
            "WARNING:tensorflow:From /usr/local/lib/python3.6/dist-packages/keras/backend/tensorflow_backend.py:1033: The name tf.assign_add is deprecated. Please use tf.compat.v1.assign_add instead.\n",
            "\n",
            "WARNING:tensorflow:From /usr/local/lib/python3.6/dist-packages/keras/backend/tensorflow_backend.py:1020: The name tf.assign is deprecated. Please use tf.compat.v1.assign instead.\n",
            "\n",
            "Train on 40000 samples, validate on 10000 samples\n",
            "Epoch 1/30\n",
            "40000/40000 [==============================] - 6s 146us/step - loss: 1.5057 - acc: 0.4503 - val_loss: 1.4523 - val_acc: 0.5006\n",
            "Epoch 2/30\n",
            "40000/40000 [==============================] - 4s 108us/step - loss: 1.1212 - acc: 0.6037 - val_loss: 1.1861 - val_acc: 0.5914\n",
            "Epoch 3/30\n",
            "40000/40000 [==============================] - 4s 107us/step - loss: 0.9700 - acc: 0.6609 - val_loss: 1.0769 - val_acc: 0.6320\n",
            "Epoch 4/30\n",
            "40000/40000 [==============================] - 4s 108us/step - loss: 0.8691 - acc: 0.6955 - val_loss: 1.0854 - val_acc: 0.6409\n",
            "Epoch 5/30\n",
            "40000/40000 [==============================] - 4s 108us/step - loss: 0.8090 - acc: 0.7148 - val_loss: 1.0960 - val_acc: 0.6480\n",
            "Epoch 6/30\n",
            "40000/40000 [==============================] - 4s 108us/step - loss: 0.7565 - acc: 0.7367 - val_loss: 0.9606 - val_acc: 0.6851\n",
            "Epoch 7/30\n",
            "40000/40000 [==============================] - 4s 107us/step - loss: 0.7066 - acc: 0.7536 - val_loss: 0.9824 - val_acc: 0.6738\n",
            "Epoch 8/30\n",
            "40000/40000 [==============================] - 4s 108us/step - loss: 0.6689 - acc: 0.7675 - val_loss: 0.8533 - val_acc: 0.7055\n",
            "Epoch 9/30\n",
            "40000/40000 [==============================] - 4s 108us/step - loss: 0.6378 - acc: 0.7763 - val_loss: 0.9097 - val_acc: 0.7055\n",
            "Epoch 10/30\n",
            "40000/40000 [==============================] - 4s 106us/step - loss: 0.5955 - acc: 0.7904 - val_loss: 0.9364 - val_acc: 0.6932\n",
            "\n",
            "Epoch 00010: ReduceLROnPlateau reducing learning rate to 0.004999999888241291.\n",
            "Epoch 11/30\n",
            "40000/40000 [==============================] - 4s 108us/step - loss: 0.4904 - acc: 0.8296 - val_loss: 0.8955 - val_acc: 0.7185\n",
            "Epoch 12/30\n",
            "40000/40000 [==============================] - 4s 110us/step - loss: 0.4553 - acc: 0.8425 - val_loss: 0.9080 - val_acc: 0.7284\n",
            "Epoch 13/30\n",
            "40000/40000 [==============================] - 4s 108us/step - loss: 0.4298 - acc: 0.8505 - val_loss: 0.8694 - val_acc: 0.7309\n",
            "Epoch 14/30\n",
            "40000/40000 [==============================] - 4s 110us/step - loss: 0.4134 - acc: 0.8576 - val_loss: 0.9887 - val_acc: 0.7150\n",
            "Epoch 15/30\n",
            "40000/40000 [==============================] - 4s 105us/step - loss: 0.3864 - acc: 0.8653 - val_loss: 0.9334 - val_acc: 0.7353\n",
            "Epoch 16/30\n",
            "40000/40000 [==============================] - 4s 110us/step - loss: 0.3606 - acc: 0.8751 - val_loss: 1.0701 - val_acc: 0.6954\n",
            "Epoch 17/30\n",
            "40000/40000 [==============================] - 4s 109us/step - loss: 0.3449 - acc: 0.8787 - val_loss: 0.9427 - val_acc: 0.7284\n",
            "\n",
            "Epoch 00017: ReduceLROnPlateau reducing learning rate to 0.0024999999441206455.\n",
            "Epoch 18/30\n",
            "40000/40000 [==============================] - 4s 110us/step - loss: 0.2702 - acc: 0.9079 - val_loss: 0.9212 - val_acc: 0.7387\n",
            "Epoch 19/30\n",
            "40000/40000 [==============================] - 4s 110us/step - loss: 0.2479 - acc: 0.9163 - val_loss: 1.0067 - val_acc: 0.7264\n",
            "Epoch 20/30\n",
            "40000/40000 [==============================] - 4s 107us/step - loss: 0.2321 - acc: 0.9227 - val_loss: 1.0902 - val_acc: 0.7193\n",
            "\n",
            "Epoch 00020: ReduceLROnPlateau reducing learning rate to 0.0012499999720603228.\n",
            "Epoch 21/30\n",
            "40000/40000 [==============================] - 4s 106us/step - loss: 0.1952 - acc: 0.9371 - val_loss: 0.9871 - val_acc: 0.7387\n",
            "Epoch 22/30\n",
            "40000/40000 [==============================] - 4s 107us/step - loss: 0.1799 - acc: 0.9429 - val_loss: 1.0173 - val_acc: 0.7394\n",
            "Epoch 23/30\n",
            "40000/40000 [==============================] - 4s 109us/step - loss: 0.1748 - acc: 0.9458 - val_loss: 1.0345 - val_acc: 0.7356\n",
            "Epoch 24/30\n",
            "40000/40000 [==============================] - 4s 107us/step - loss: 0.1665 - acc: 0.9487 - val_loss: 1.0506 - val_acc: 0.7329\n",
            "\n",
            "Epoch 00024: ReduceLROnPlateau reducing learning rate to 0.0006249999860301614.\n",
            "Epoch 25/30\n",
            "40000/40000 [==============================] - 4s 107us/step - loss: 0.1465 - acc: 0.9572 - val_loss: 1.0704 - val_acc: 0.7393\n",
            "Epoch 26/30\n",
            "40000/40000 [==============================] - 4s 106us/step - loss: 0.1406 - acc: 0.9607 - val_loss: 1.0835 - val_acc: 0.7354\n",
            "\n",
            "Epoch 00026: ReduceLROnPlateau reducing learning rate to 0.0003124999930150807.\n",
            "Epoch 27/30\n",
            "40000/40000 [==============================] - 4s 107us/step - loss: 0.1322 - acc: 0.9639 - val_loss: 1.0838 - val_acc: 0.7391\n",
            "Epoch 00027: early stopping\n"
          ],
          "name": "stdout"
        }
      ]
    },
    {
      "cell_type": "markdown",
      "metadata": {
        "id": "6UU-hy0ky9oX",
        "colab_type": "text"
      },
      "source": [
        "## 預測新圖片，輸入影像前處理要與訓練時相同\n",
        "#### ((X-mean)/(std+1e-7) ):這裡的mean跟std是訓練集的\n",
        "## 維度如下方示範"
      ]
    },
    {
      "cell_type": "code",
      "metadata": {
        "id": "cKGsvHJvDu32",
        "colab_type": "code",
        "colab": {
          "base_uri": "https://localhost:8080/",
          "height": 68
        },
        "outputId": "9998df97-8ba4-42ab-c6e5-b98d1b84a794"
      },
      "source": [
        "test_loss, test_acc = classifier.evaluate(x_test, y_test )\n",
        "print(f'test_loss: {test_loss:.3f}\\ntest_acc:  {test_acc:.3f}')"
      ],
      "execution_count": 5,
      "outputs": [
        {
          "output_type": "stream",
          "text": [
            "10000/10000 [==============================] - 1s 78us/step\n",
            "test_loss: 1.120\n",
            "test_acc:  0.733\n"
          ],
          "name": "stdout"
        }
      ]
    }
  ]
}