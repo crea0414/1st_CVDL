{
  "nbformat": 4,
  "nbformat_minor": 0,
  "metadata": {
    "kernelspec": {
      "display_name": "Python 3",
      "language": "python",
      "name": "python3"
    },
    "language_info": {
      "codemirror_mode": {
        "name": "ipython",
        "version": 3
      },
      "file_extension": ".py",
      "mimetype": "text/x-python",
      "name": "python",
      "nbconvert_exporter": "python",
      "pygments_lexer": "ipython3",
      "version": "3.6.7"
    },
    "colab": {
      "name": "Day018_Vgg16_HW.ipynb",
      "provenance": [],
      "collapsed_sections": [],
      "include_colab_link": true
    }
  },
  "cells": [
    {
      "cell_type": "markdown",
      "metadata": {
        "id": "view-in-github",
        "colab_type": "text"
      },
      "source": [
        "<a href=\"https://colab.research.google.com/github/crea0414/1st_CVDL/blob/master/Day018_Vgg16_HW.ipynb\" target=\"_parent\"><img src=\"https://colab.research.google.com/assets/colab-badge.svg\" alt=\"Open In Colab\"/></a>"
      ]
    },
    {
      "cell_type": "markdown",
      "metadata": {
        "id": "ZveQTGIJEBs3"
      },
      "source": [
        "## 『本次練習內容』\n",
        "#### 學習如何搭建Vgg16模型"
      ]
    },
    {
      "cell_type": "markdown",
      "metadata": {
        "id": "bagbTyRGEBs9"
      },
      "source": [
        "## 『本次練習目的』\n",
        "  #### 熟悉經典Vgg模型的搭建\n",
        "  #### 時間較為充裕的學員可以嘗試搭建Vgg19當作練習"
      ]
    },
    {
      "cell_type": "markdown",
      "metadata": {
        "id": "LQwU3u9tEBs_"
      },
      "source": [
        "---"
      ]
    },
    {
      "cell_type": "markdown",
      "metadata": {
        "id": "XwLecnn-EBtC"
      },
      "source": [
        "##### 請參考下面結構圖搭建Vgg16模型"
      ]
    },
    {
      "cell_type": "code",
      "metadata": {
        "id": "qJkRxtxzEYiZ",
        "outputId": "b1cdadd7-9c54-421d-cfb7-22a816b3d29d",
        "colab": {
          "base_uri": "https://localhost:8080/",
          "height": 35
        }
      },
      "source": [
        "import tensorflow as tf\n",
        "tf.__version__"
      ],
      "execution_count": null,
      "outputs": [
        {
          "output_type": "execute_result",
          "data": {
            "application/vnd.google.colaboratory.intrinsic+json": {
              "type": "string"
            },
            "text/plain": [
              "'2.3.0'"
            ]
          },
          "metadata": {
            "tags": []
          },
          "execution_count": 1
        }
      ]
    },
    {
      "cell_type": "markdown",
      "metadata": {
        "id": "xxyzQOepUZ9f"
      },
      "source": [
        "#VGG ConvBlock"
      ]
    },
    {
      "cell_type": "code",
      "metadata": {
        "id": "agJH_m2gEibH"
      },
      "source": [
        "class Vgg2ConvBlock(tf.keras.Model):\n",
        "    def __init__(self, filter):\n",
        "        super(Vgg2ConvBlock, self).__init__()\n",
        "        self.conv2d_1 = tf.keras.layers.Conv2D(filter, (3, 3), padding='same')\n",
        "        self.conv2d_2 = tf.keras.layers.Conv2D(filter, (3, 3), padding='same')\n",
        "        self.max_pool = tf.keras.layers.MaxPool2D(pool_size=(2, 2), strides=(2, 2))\n",
        "        self.relu = tf.keras.layers.ReLU()\n",
        "        \n",
        "    def call(self, inputs):\n",
        "        x = self.conv2d_1(inputs)\n",
        "        x = self.relu(x)\n",
        "        x = self.conv2d_2(x)\n",
        "        x = self.relu(x)\n",
        "        x = self.max_pool(x)\n",
        "        return x\n",
        "\n",
        "\n",
        "class Vgg3ConvBlock(tf.keras.Model):\n",
        "    def __init__(self, filter):\n",
        "        super(Vgg3ConvBlock, self).__init__()\n",
        "        self.conv2d_1 = tf.keras.layers.Conv2D(filter, (3, 3), padding='same')\n",
        "        self.conv2d_2 = tf.keras.layers.Conv2D(filter, (3, 3), padding='same')\n",
        "        self.conv2d_3 = tf.keras.layers.Conv2D(filter, (3, 3), padding='same')\n",
        "        self.max_pool = tf.keras.layers.MaxPool2D(pool_size=(2, 2), strides=(2, 2))\n",
        "        self.relu = tf.keras.layers.ReLU()\n",
        "    \n",
        "    def call(self, inputs):\n",
        "        x = self.conv2d_1(inputs)\n",
        "        x = self.relu(x)\n",
        "        x = self.conv2d_2(x)\n",
        "        x = self.relu(x)\n",
        "        x = self.conv2d_3(x)\n",
        "        x = self.relu(x)\n",
        "        x = self.max_pool(x)\n",
        "        return x\n",
        "\n",
        "class Vgg4ConvBlock(tf.keras.Model):\n",
        "    def __init__(self, filter):\n",
        "        super(Vgg4ConvBlock, self).__init__()\n",
        "        self.conv2d_1 = tf.keras.layers.Conv2D(filter, (3, 3), padding='same')\n",
        "        self.conv2d_2 = tf.keras.layers.Conv2D(filter, (3, 3), padding='same')\n",
        "        self.conv2d_3 = tf.keras.layers.Conv2D(filter, (3, 3), padding='same')\n",
        "        self.conv2d_4 = tf.keras.layers.Conv2D(filter, (3, 3), padding='same')\n",
        "        self.max_pool = tf.keras.layers.MaxPool2D(pool_size=(2, 2), strides=(2, 2))\n",
        "        self.relu = tf.keras.layers.ReLU()\n",
        "    \n",
        "    def call(self, inputs):\n",
        "        x = self.conv2d_1(inputs)\n",
        "        x = self.relu(x)\n",
        "        x = self.conv2d_2(x)\n",
        "        x = self.relu(x)\n",
        "        x = self.conv2d_3(x)\n",
        "        x = self.relu(x)\n",
        "        x = self.conv2d_4(x)\n",
        "        x = self.relu(x)\n",
        "        x = self.max_pool(x)\n",
        "        return x"
      ],
      "execution_count": null,
      "outputs": []
    },
    {
      "cell_type": "markdown",
      "metadata": {
        "id": "XT77ISgWUfX_"
      },
      "source": [
        "#VGG16"
      ]
    },
    {
      "cell_type": "code",
      "metadata": {
        "id": "5S_gwI_PJg2a"
      },
      "source": [
        "class VGG16(tf.keras.Model):\n",
        "    def __init__(self, include_top=True, input_tensor=None, pooling='max'):\n",
        "        super(VGG16, self).__init__()\n",
        "        self.block1 = Vgg2ConvBlock(64)\n",
        "        self.block2 = Vgg2ConvBlock(128)\n",
        "        self.block3 = Vgg3ConvBlock(256)\n",
        "        self.block4 = Vgg3ConvBlock(512)\n",
        "        self.block5 = Vgg3ConvBlock(512)\n",
        "        self.include_top = include_top\n",
        "        self.pooling = pooling\n",
        "\n",
        "        if self.include_top:\n",
        "            self.flatten = tf.keras.layers.Flatten()\n",
        "            self.dense_1 = tf.keras.layers.Dense(4096, activation='relu')\n",
        "            self.dense_2 = tf.keras.layers.Dense(4096, activation='relu')\n",
        "            self.dense_3 = tf.keras.layers.Dense(1000, activation='softmax')\n",
        "\n",
        "    def call(self, inputs):\n",
        "        x = self.block1(inputs)\n",
        "        x = self.block2(x)\n",
        "        x = self.block3(x)\n",
        "        x = self.block4(x)\n",
        "        x = self.block5(x)\n",
        "\n",
        "        if self.include_top:\n",
        "            x = self.flatten(x)\n",
        "            x = self.dense_1(x)\n",
        "            x = self.dense_2(x)\n",
        "            x = self.dense_3(x)\n",
        "            return x\n",
        "        else:\n",
        "            if self.pooling=='max':\n",
        "                x = tf.keras.layers.GlobalMaxPooling2D()(x)\n",
        "            else:\n",
        "                x = tf.keras.layers.GlobalAveragePooling2D()(x)\n",
        "            return x"
      ],
      "execution_count": null,
      "outputs": []
    },
    {
      "cell_type": "code",
      "metadata": {
        "id": "Sbdl_j3hPUBj",
        "outputId": "4ca5b356-ae43-4bcf-e155-f8311cdb3a95",
        "colab": {
          "base_uri": "https://localhost:8080/",
          "height": 323
        }
      },
      "source": [
        "tf.keras.backend.clear_session()\n",
        "my_vgg16 = VGG16(include_top=False)\n",
        "output = my_vgg16(tf.random.normal((1, 224, 224, 3)))\n",
        "my_vgg16.summary()"
      ],
      "execution_count": null,
      "outputs": [
        {
          "output_type": "stream",
          "text": [
            "Model: \"vg_g16\"\n",
            "_________________________________________________________________\n",
            "Layer (type)                 Output Shape              Param #   \n",
            "=================================================================\n",
            "vgg2_conv_block (Vgg2ConvBlo multiple                  38720     \n",
            "_________________________________________________________________\n",
            "vgg2_conv_block_1 (Vgg2ConvB multiple                  221440    \n",
            "_________________________________________________________________\n",
            "vgg3_conv_block (Vgg3ConvBlo multiple                  1475328   \n",
            "_________________________________________________________________\n",
            "vgg3_conv_block_1 (Vgg3ConvB multiple                  5899776   \n",
            "_________________________________________________________________\n",
            "vgg3_conv_block_2 (Vgg3ConvB multiple                  7079424   \n",
            "=================================================================\n",
            "Total params: 14,714,688\n",
            "Trainable params: 14,714,688\n",
            "Non-trainable params: 0\n",
            "_________________________________________________________________\n"
          ],
          "name": "stdout"
        }
      ]
    },
    {
      "cell_type": "code",
      "metadata": {
        "id": "SLQEHr1bOXOO",
        "outputId": "5d94d32b-d01a-497c-8d02-1b853d61a2bc",
        "colab": {
          "base_uri": "https://localhost:8080/",
          "height": 799
        }
      },
      "source": [
        "vgg16 = tf.keras.applications.VGG16(include_top=False)\n",
        "vgg16.summary()"
      ],
      "execution_count": null,
      "outputs": [
        {
          "output_type": "stream",
          "text": [
            "Model: \"vgg16\"\n",
            "_________________________________________________________________\n",
            "Layer (type)                 Output Shape              Param #   \n",
            "=================================================================\n",
            "input_1 (InputLayer)         [(None, None, None, 3)]   0         \n",
            "_________________________________________________________________\n",
            "block1_conv1 (Conv2D)        (None, None, None, 64)    1792      \n",
            "_________________________________________________________________\n",
            "block1_conv2 (Conv2D)        (None, None, None, 64)    36928     \n",
            "_________________________________________________________________\n",
            "block1_pool (MaxPooling2D)   (None, None, None, 64)    0         \n",
            "_________________________________________________________________\n",
            "block2_conv1 (Conv2D)        (None, None, None, 128)   73856     \n",
            "_________________________________________________________________\n",
            "block2_conv2 (Conv2D)        (None, None, None, 128)   147584    \n",
            "_________________________________________________________________\n",
            "block2_pool (MaxPooling2D)   (None, None, None, 128)   0         \n",
            "_________________________________________________________________\n",
            "block3_conv1 (Conv2D)        (None, None, None, 256)   295168    \n",
            "_________________________________________________________________\n",
            "block3_conv2 (Conv2D)        (None, None, None, 256)   590080    \n",
            "_________________________________________________________________\n",
            "block3_conv3 (Conv2D)        (None, None, None, 256)   590080    \n",
            "_________________________________________________________________\n",
            "block3_pool (MaxPooling2D)   (None, None, None, 256)   0         \n",
            "_________________________________________________________________\n",
            "block4_conv1 (Conv2D)        (None, None, None, 512)   1180160   \n",
            "_________________________________________________________________\n",
            "block4_conv2 (Conv2D)        (None, None, None, 512)   2359808   \n",
            "_________________________________________________________________\n",
            "block4_conv3 (Conv2D)        (None, None, None, 512)   2359808   \n",
            "_________________________________________________________________\n",
            "block4_pool (MaxPooling2D)   (None, None, None, 512)   0         \n",
            "_________________________________________________________________\n",
            "block5_conv1 (Conv2D)        (None, None, None, 512)   2359808   \n",
            "_________________________________________________________________\n",
            "block5_conv2 (Conv2D)        (None, None, None, 512)   2359808   \n",
            "_________________________________________________________________\n",
            "block5_conv3 (Conv2D)        (None, None, None, 512)   2359808   \n",
            "_________________________________________________________________\n",
            "block5_pool (MaxPooling2D)   (None, None, None, 512)   0         \n",
            "=================================================================\n",
            "Total params: 14,714,688\n",
            "Trainable params: 14,714,688\n",
            "Non-trainable params: 0\n",
            "_________________________________________________________________\n"
          ],
          "name": "stdout"
        }
      ]
    },
    {
      "cell_type": "markdown",
      "metadata": {
        "id": "Q2NSELnQUtGF"
      },
      "source": [
        "#VGG19"
      ]
    },
    {
      "cell_type": "code",
      "metadata": {
        "id": "L2_op5qfU8UK"
      },
      "source": [
        "class VGG19(tf.keras.Model):\n",
        "    def __init__(self, include_top=True, input_tensor=None, pooling='max'):\n",
        "        super(VGG19, self).__init__()\n",
        "        self.block1 = Vgg2ConvBlock(64)\n",
        "        self.block2 = Vgg2ConvBlock(128)\n",
        "        self.block3 = Vgg4ConvBlock(256)\n",
        "        self.block4 = Vgg4ConvBlock(512)\n",
        "        self.block5 = Vgg4ConvBlock(512)\n",
        "        self.include_top = include_top\n",
        "        self.pooling = pooling\n",
        "\n",
        "        if self.include_top:\n",
        "            self.flatten = tf.keras.layers.Flatten()\n",
        "            self.dense_1 = tf.keras.layers.Dense(4096, activation='relu')\n",
        "            self.dense_2 = tf.keras.layers.Dense(4096, activation='relu')\n",
        "            self.dense_3 = tf.keras.layers.Dense(1000, activation='softmax')\n",
        "\n",
        "    def call(self, inputs):\n",
        "        x = self.block1(inputs)\n",
        "        x = self.block2(x)\n",
        "        x = self.block3(x)\n",
        "        x = self.block4(x)\n",
        "        x = self.block5(x)\n",
        "\n",
        "        if self.include_top:\n",
        "            x = self.flatten(x)\n",
        "            x = self.dense_1(x)\n",
        "            x = self.dense_2(x)\n",
        "            x = self.dense_3(x)\n",
        "            return x\n",
        "        else:\n",
        "            if self.pooling=='max':\n",
        "                x = tf.keras.layers.GlobalMaxPooling2D()(x)\n",
        "            else:\n",
        "                x = tf.keras.layers.GlobalAveragePooling2D()(x)\n",
        "            return x"
      ],
      "execution_count": null,
      "outputs": []
    },
    {
      "cell_type": "code",
      "metadata": {
        "id": "Zh5VxoD4VkJr",
        "outputId": "3f12354a-2e61-4328-8158-d3dee429f259",
        "colab": {
          "base_uri": "https://localhost:8080/",
          "height": 459
        }
      },
      "source": [
        "tf.keras.backend.clear_session()\n",
        "my_vgg19 = VGG19(include_top=True)\n",
        "output = my_vgg19(tf.random.normal((1, 224, 224, 3)))\n",
        "my_vgg19.summary()"
      ],
      "execution_count": null,
      "outputs": [
        {
          "output_type": "stream",
          "text": [
            "Model: \"vg_g19\"\n",
            "_________________________________________________________________\n",
            "Layer (type)                 Output Shape              Param #   \n",
            "=================================================================\n",
            "vgg2_conv_block (Vgg2ConvBlo multiple                  38720     \n",
            "_________________________________________________________________\n",
            "vgg2_conv_block_1 (Vgg2ConvB multiple                  221440    \n",
            "_________________________________________________________________\n",
            "vgg4_conv_block (Vgg4ConvBlo multiple                  2065408   \n",
            "_________________________________________________________________\n",
            "vgg4_conv_block_1 (Vgg4ConvB multiple                  8259584   \n",
            "_________________________________________________________________\n",
            "vgg4_conv_block_2 (Vgg4ConvB multiple                  9439232   \n",
            "_________________________________________________________________\n",
            "flatten (Flatten)            multiple                  0         \n",
            "_________________________________________________________________\n",
            "dense (Dense)                multiple                  102764544 \n",
            "_________________________________________________________________\n",
            "dense_1 (Dense)              multiple                  16781312  \n",
            "_________________________________________________________________\n",
            "dense_2 (Dense)              multiple                  4097000   \n",
            "=================================================================\n",
            "Total params: 143,667,240\n",
            "Trainable params: 143,667,240\n",
            "Non-trainable params: 0\n",
            "_________________________________________________________________\n"
          ],
          "name": "stdout"
        }
      ]
    },
    {
      "cell_type": "code",
      "metadata": {
        "id": "Rc7fksn4UsZz",
        "outputId": "1ebfc696-e83e-4efa-a34a-621e804af16f",
        "colab": {
          "base_uri": "https://localhost:8080/",
          "height": 1000
        }
      },
      "source": [
        "vgg19 = tf.keras.applications.VGG19(include_top=True)\n",
        "vgg19.summary()"
      ],
      "execution_count": null,
      "outputs": [
        {
          "output_type": "stream",
          "text": [
            "Model: \"vgg19\"\n",
            "_________________________________________________________________\n",
            "Layer (type)                 Output Shape              Param #   \n",
            "=================================================================\n",
            "input_1 (InputLayer)         [(None, 224, 224, 3)]     0         \n",
            "_________________________________________________________________\n",
            "block1_conv1 (Conv2D)        (None, 224, 224, 64)      1792      \n",
            "_________________________________________________________________\n",
            "block1_conv2 (Conv2D)        (None, 224, 224, 64)      36928     \n",
            "_________________________________________________________________\n",
            "block1_pool (MaxPooling2D)   (None, 112, 112, 64)      0         \n",
            "_________________________________________________________________\n",
            "block2_conv1 (Conv2D)        (None, 112, 112, 128)     73856     \n",
            "_________________________________________________________________\n",
            "block2_conv2 (Conv2D)        (None, 112, 112, 128)     147584    \n",
            "_________________________________________________________________\n",
            "block2_pool (MaxPooling2D)   (None, 56, 56, 128)       0         \n",
            "_________________________________________________________________\n",
            "block3_conv1 (Conv2D)        (None, 56, 56, 256)       295168    \n",
            "_________________________________________________________________\n",
            "block3_conv2 (Conv2D)        (None, 56, 56, 256)       590080    \n",
            "_________________________________________________________________\n",
            "block3_conv3 (Conv2D)        (None, 56, 56, 256)       590080    \n",
            "_________________________________________________________________\n",
            "block3_conv4 (Conv2D)        (None, 56, 56, 256)       590080    \n",
            "_________________________________________________________________\n",
            "block3_pool (MaxPooling2D)   (None, 28, 28, 256)       0         \n",
            "_________________________________________________________________\n",
            "block4_conv1 (Conv2D)        (None, 28, 28, 512)       1180160   \n",
            "_________________________________________________________________\n",
            "block4_conv2 (Conv2D)        (None, 28, 28, 512)       2359808   \n",
            "_________________________________________________________________\n",
            "block4_conv3 (Conv2D)        (None, 28, 28, 512)       2359808   \n",
            "_________________________________________________________________\n",
            "block4_conv4 (Conv2D)        (None, 28, 28, 512)       2359808   \n",
            "_________________________________________________________________\n",
            "block4_pool (MaxPooling2D)   (None, 14, 14, 512)       0         \n",
            "_________________________________________________________________\n",
            "block5_conv1 (Conv2D)        (None, 14, 14, 512)       2359808   \n",
            "_________________________________________________________________\n",
            "block5_conv2 (Conv2D)        (None, 14, 14, 512)       2359808   \n",
            "_________________________________________________________________\n",
            "block5_conv3 (Conv2D)        (None, 14, 14, 512)       2359808   \n",
            "_________________________________________________________________\n",
            "block5_conv4 (Conv2D)        (None, 14, 14, 512)       2359808   \n",
            "_________________________________________________________________\n",
            "block5_pool (MaxPooling2D)   (None, 7, 7, 512)         0         \n",
            "_________________________________________________________________\n",
            "flatten (Flatten)            (None, 25088)             0         \n",
            "_________________________________________________________________\n",
            "fc1 (Dense)                  (None, 4096)              102764544 \n",
            "_________________________________________________________________\n",
            "fc2 (Dense)                  (None, 4096)              16781312  \n",
            "_________________________________________________________________\n",
            "predictions (Dense)          (None, 1000)              4097000   \n",
            "=================================================================\n",
            "Total params: 143,667,240\n",
            "Trainable params: 143,667,240\n",
            "Non-trainable params: 0\n",
            "_________________________________________________________________\n"
          ],
          "name": "stdout"
        }
      ]
    }
  ]
}