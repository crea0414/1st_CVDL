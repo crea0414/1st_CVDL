{
  "nbformat": 4,
  "nbformat_minor": 0,
  "metadata": {
    "kernelspec": {
      "display_name": "Python 3",
      "language": "python",
      "name": "python3"
    },
    "language_info": {
      "codemirror_mode": {
        "name": "ipython",
        "version": 3
      },
      "file_extension": ".py",
      "mimetype": "text/x-python",
      "name": "python",
      "nbconvert_exporter": "python",
      "pygments_lexer": "ipython3",
      "version": "3.6.7"
    },
    "colab": {
      "name": "Day026_RPN_HW.ipynb",
      "provenance": [],
      "include_colab_link": true
    }
  },
  "cells": [
    {
      "cell_type": "markdown",
      "metadata": {
        "id": "view-in-github",
        "colab_type": "text"
      },
      "source": [
        "<a href=\"https://colab.research.google.com/github/crea0414/1st_CVDL/blob/master/Day026_RPN_HW.ipynb\" target=\"_parent\"><img src=\"https://colab.research.google.com/assets/colab-badge.svg\" alt=\"Open In Colab\"/></a>"
      ]
    },
    {
      "cell_type": "markdown",
      "metadata": {
        "id": "ttVsdCB7rvXt"
      },
      "source": [
        "## 『本次練習內容』\n",
        "#### 學習搭建RPN層"
      ]
    },
    {
      "cell_type": "markdown",
      "metadata": {
        "id": "DDxioKZQrvXy"
      },
      "source": [
        "## 『本次練習目的』\n",
        "  #### 了解Object Detection演算法中是如何做到分類又回歸BBOX座標"
      ]
    },
    {
      "cell_type": "code",
      "metadata": {
        "id": "srIrZ18yr5yh",
        "outputId": "8dfbd30c-4774-495e-8dac-b847c7b68482",
        "colab": {
          "base_uri": "https://localhost:8080/",
          "height": 35
        }
      },
      "source": [
        "import tensorflow as tf\n",
        "tf.__version__"
      ],
      "execution_count": 1,
      "outputs": [
        {
          "output_type": "execute_result",
          "data": {
            "application/vnd.google.colaboratory.intrinsic+json": {
              "type": "string"
            },
            "text/plain": [
              "'2.3.0'"
            ]
          },
          "metadata": {
            "tags": []
          },
          "execution_count": 1
        }
      ]
    },
    {
      "cell_type": "code",
      "metadata": {
        "id": "2BzMacXzrvX1"
      },
      "source": [
        "from tensorflow.keras.layers import Flatten, Dense, Input, Conv2D, MaxPooling2D, Dropout\n",
        "from tensorflow.keras.layers import GlobalAveragePooling2D, GlobalMaxPooling2D, TimeDistributed\n",
        "\n",
        "\n",
        "input_shape_img = (1024, 1024, 3)\n",
        "img_input = Input(shape=input_shape_img)\n",
        "'''先過一般CNN層提取特徵'''\n",
        "def nn_base(img_input):\n",
        "    # Block 1\n",
        "    x = Conv2D(64, (3, 3), activation='relu', padding='same', name='block1_conv1')(img_input)\n",
        "    x = Conv2D(64, (3, 3), activation='relu', padding='same', name='block1_conv2')(x)\n",
        "    # 縮水1/2 1024x1024 -> 512x512\n",
        "    x = MaxPooling2D((2, 2), strides=(2, 2), name='block1_pool')(x)\n",
        "\n",
        "    # Block 2\n",
        "    x = Conv2D(128, (3, 3), activation='relu', padding='same', name='block2_conv1')(x)\n",
        "    x = Conv2D(128, (3, 3), activation='relu', padding='same', name='block2_conv2')(x)\n",
        "    # 縮水1/2 512x512 -> 256x256\n",
        "    x = MaxPooling2D((2, 2), strides=(2, 2), name='block2_pool')(x)\n",
        "\n",
        "    # Block 3\n",
        "    x = Conv2D(256, (3, 3), activation='relu', padding='same', name='block3_conv1')(x)\n",
        "    x = Conv2D(256, (3, 3), activation='relu', padding='same', name='block3_conv2')(x)\n",
        "    x = Conv2D(256, (3, 3), activation='relu', padding='same', name='block3_conv3')(x)\n",
        "    # 縮水1/2 256x256 -> 128x128\n",
        "    x = MaxPooling2D((2, 2), strides=(2, 2), name='block3_pool')(x)\n",
        "\n",
        "    # Block 4\n",
        "    x = Conv2D(512, (3, 3), activation='relu', padding='same', name='block4_conv1')(x)\n",
        "    x = Conv2D(512, (3, 3), activation='relu', padding='same', name='block4_conv2')(x)\n",
        "    x = Conv2D(512, (3, 3), activation='relu', padding='same', name='block4_conv3')(x)\n",
        "    # 縮水1/2 128x128 -> 64x64\n",
        "    x = MaxPooling2D((2, 2), strides=(2, 2), name='block4_pool')(x)\n",
        "\n",
        "    # Block 5\n",
        "    x = Conv2D(512, (3, 3), activation='relu', padding='same', name='block5_conv1')(x)\n",
        "    x = Conv2D(512, (3, 3), activation='relu', padding='same', name='block5_conv2')(x)\n",
        "    x = Conv2D(512, (3, 3), activation='relu', padding='same', name='block5_conv3')(x)\n",
        "\n",
        "    # 最後返回的x是64x64x512的feature map。\n",
        "    return x"
      ],
      "execution_count": 2,
      "outputs": []
    },
    {
      "cell_type": "code",
      "metadata": {
        "id": "OrJ6HywkrvYD"
      },
      "source": [
        "'''過RPN'''\n",
        "def rpn(base_layers, num_anchors):\n",
        "\n",
        "    x = Conv2D(filters = 512, kernel_size=(3, 3), padding='same', activation='relu', kernel_initializer='normal', name='rpn_conv1')(base_layers)\n",
        "\n",
        "    # rpn分類和迴歸\n",
        "    x_class = Conv2D(num_anchors*2, (1, 1), activation='softmax',name='rpn_out_class')(x)\n",
        "    x_reg = Conv2D(num_anchors *4, (1, 1), activation='linear', name='rpn_out_regress')(x)\n",
        "\n",
        "    return x_class, x_reg, base_layers"
      ],
      "execution_count": 3,
      "outputs": []
    },
    {
      "cell_type": "code",
      "metadata": {
        "id": "nMMaRD8wrvYN"
      },
      "source": [
        "base_layers=nn_base(img_input)"
      ],
      "execution_count": 4,
      "outputs": []
    },
    {
      "cell_type": "code",
      "metadata": {
        "id": "vcyrgA9VrvYX"
      },
      "source": [
        "x_class, x_reg, base_layers=rpn(base_layers, 9)"
      ],
      "execution_count": 5,
      "outputs": []
    },
    {
      "cell_type": "code",
      "metadata": {
        "id": "cJRz0Ig4rvYh",
        "outputId": "45463892-42f5-43d4-d358-94101bc070d4",
        "colab": {
          "base_uri": "https://localhost:8080/",
          "height": 68
        }
      },
      "source": [
        "print('Classification支線：',x_class) #'''確認深度是否為18'''\n",
        "print('BBOX Regression 支線：',x_reg) #'''確認深度是否為36'''\n",
        "print('CNN Output：',base_layers)"
      ],
      "execution_count": 6,
      "outputs": [
        {
          "output_type": "stream",
          "text": [
            "Classification支線： Tensor(\"rpn_out_class/truediv:0\", shape=(None, 64, 64, 18), dtype=float32)\n",
            "BBOX Regression 支線： Tensor(\"rpn_out_regress/BiasAdd:0\", shape=(None, 64, 64, 36), dtype=float32)\n",
            "CNN Output： Tensor(\"block5_conv3/Relu:0\", shape=(None, 64, 64, 512), dtype=float32)\n"
          ],
          "name": "stdout"
        }
      ]
    }
  ]
}